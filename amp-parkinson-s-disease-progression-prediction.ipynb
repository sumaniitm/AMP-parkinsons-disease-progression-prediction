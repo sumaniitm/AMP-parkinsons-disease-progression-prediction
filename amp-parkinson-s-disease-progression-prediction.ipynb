{
 "cells": [
  {
   "cell_type": "code",
   "execution_count": 1,
   "id": "540adb94",
   "metadata": {
    "_cell_guid": "b1076dfc-b9ad-4769-8c92-a6c4dae69d19",
    "_uuid": "8f2839f25d086af736a60e9eeb907d3b93b6e0e5",
    "execution": {
     "iopub.execute_input": "2023-03-22T12:23:49.588746Z",
     "iopub.status.busy": "2023-03-22T12:23:49.587971Z",
     "iopub.status.idle": "2023-03-22T12:23:50.706757Z",
     "shell.execute_reply": "2023-03-22T12:23:50.705588Z"
    },
    "papermill": {
     "duration": 1.131984,
     "end_time": "2023-03-22T12:23:50.710338",
     "exception": false,
     "start_time": "2023-03-22T12:23:49.578354",
     "status": "completed"
    },
    "tags": []
   },
   "outputs": [
    {
     "name": "stdout",
     "output_type": "stream",
     "text": [
      "/kaggle/input/amp-parkinsons-disease-progression-prediction/train_proteins.csv\n",
      "/kaggle/input/amp-parkinsons-disease-progression-prediction/train_clinical_data.csv\n",
      "/kaggle/input/amp-parkinsons-disease-progression-prediction/public_timeseries_testing_util.py\n",
      "/kaggle/input/amp-parkinsons-disease-progression-prediction/supplemental_clinical_data.csv\n",
      "/kaggle/input/amp-parkinsons-disease-progression-prediction/train_peptides.csv\n",
      "/kaggle/input/amp-parkinsons-disease-progression-prediction/amp_pd_peptide/competition.cpython-37m-x86_64-linux-gnu.so\n",
      "/kaggle/input/amp-parkinsons-disease-progression-prediction/amp_pd_peptide/__init__.py\n",
      "/kaggle/input/amp-parkinsons-disease-progression-prediction/example_test_files/sample_submission.csv\n",
      "/kaggle/input/amp-parkinsons-disease-progression-prediction/example_test_files/test_proteins.csv\n",
      "/kaggle/input/amp-parkinsons-disease-progression-prediction/example_test_files/test_peptides.csv\n",
      "/kaggle/input/amp-parkinsons-disease-progression-prediction/example_test_files/test.csv\n"
     ]
    }
   ],
   "source": [
    "# This Python 3 environment comes with many helpful analytics libraries installed\n",
    "# It is defined by the kaggle/python Docker image: https://github.com/kaggle/docker-python\n",
    "# For example, here's several helpful packages to load\n",
    "\n",
    "import numpy as np # linear algebra\n",
    "import pandas as pd # data processing, CSV file I/O (e.g. pd.read_csv)\n",
    "import os\n",
    "import gc\n",
    "from pandas.plotting import scatter_matrix\n",
    "%matplotlib inline\n",
    "import matplotlib.pyplot as plt\n",
    "\n",
    "from sklearn.model_selection import StratifiedShuffleSplit\n",
    "from sklearn.compose import ColumnTransformer\n",
    "from sklearn.preprocessing import OneHotEncoder\n",
    "from sklearn.preprocessing import PolynomialFeatures\n",
    "from sklearn.pipeline import Pipeline\n",
    "from sklearn.preprocessing import StandardScaler\n",
    "\n",
    "from sklearn.metrics import mean_squared_error\n",
    "from sklearn.linear_model import LinearRegression\n",
    "\n",
    "# Input data files are available in the read-only \"../input/\" directory\n",
    "# For example, running this (by clicking run or pressing Shift+Enter) will list all files under the input directory\n",
    "\n",
    "import os\n",
    "for dirname, _, filenames in os.walk('/kaggle/input'):\n",
    "    for filename in filenames:\n",
    "        print(os.path.join(dirname, filename))\n",
    "\n",
    "# You can write up to 20GB to the current directory (/kaggle/working/) that gets preserved as output when you create a version using \"Save & Run All\" \n",
    "# You can also write temporary files to /kaggle/temp/, but they won't be saved outside of the current session"
   ]
  },
  {
   "cell_type": "markdown",
   "id": "faebf629",
   "metadata": {
    "papermill": {
     "duration": 0.004442,
     "end_time": "2023-03-22T12:23:50.720378",
     "exception": false,
     "start_time": "2023-03-22T12:23:50.715936",
     "status": "completed"
    },
    "tags": []
   },
   "source": [
    "* #### Get the relevant training datasets and combine them to form the full training set with Proteins and Peptides\n",
    "* #### Remove the NaNs from the UPDRS test scores, using the mean from within the same group of UPDRS test scores, e.g. NaNs in updrs_4 are filled with mean of updrs_4\n",
    "* #### Create new mean and median based features and get rid of Proteins Expressions (NPX) and Peptide Abundance"
   ]
  },
  {
   "cell_type": "code",
   "execution_count": 2,
   "id": "8a8b624c",
   "metadata": {
    "execution": {
     "iopub.execute_input": "2023-03-22T12:23:50.731552Z",
     "iopub.status.busy": "2023-03-22T12:23:50.731104Z",
     "iopub.status.idle": "2023-03-22T12:23:53.982510Z",
     "shell.execute_reply": "2023-03-22T12:23:53.981099Z"
    },
    "papermill": {
     "duration": 3.260174,
     "end_time": "2023-03-22T12:23:53.985157",
     "exception": false,
     "start_time": "2023-03-22T12:23:50.724983",
     "status": "completed"
    },
    "tags": []
   },
   "outputs": [
    {
     "data": {
      "text/html": [
       "<div>\n",
       "<style scoped>\n",
       "    .dataframe tbody tr th:only-of-type {\n",
       "        vertical-align: middle;\n",
       "    }\n",
       "\n",
       "    .dataframe tbody tr th {\n",
       "        vertical-align: top;\n",
       "    }\n",
       "\n",
       "    .dataframe thead th {\n",
       "        text-align: right;\n",
       "    }\n",
       "</style>\n",
       "<table border=\"1\" class=\"dataframe\">\n",
       "  <thead>\n",
       "    <tr style=\"text-align: right;\">\n",
       "      <th></th>\n",
       "      <th>index</th>\n",
       "      <th>visit_id</th>\n",
       "      <th>visit_month</th>\n",
       "      <th>npx_mean</th>\n",
       "      <th>npx_median</th>\n",
       "      <th>peptide_mean</th>\n",
       "      <th>peptide_median</th>\n",
       "      <th>updrs_1</th>\n",
       "      <th>updrs_2</th>\n",
       "      <th>updrs_3</th>\n",
       "      <th>updrs_4</th>\n",
       "    </tr>\n",
       "  </thead>\n",
       "  <tbody>\n",
       "    <tr>\n",
       "      <th>0</th>\n",
       "      <td>0</td>\n",
       "      <td>55_0</td>\n",
       "      <td>0</td>\n",
       "      <td>2.028789e+07</td>\n",
       "      <td>1221530.0</td>\n",
       "      <td>748153.907014</td>\n",
       "      <td>93134.80</td>\n",
       "      <td>10.0</td>\n",
       "      <td>6.0</td>\n",
       "      <td>15.0</td>\n",
       "      <td>2.0</td>\n",
       "    </tr>\n",
       "    <tr>\n",
       "      <th>1</th>\n",
       "      <td>931</td>\n",
       "      <td>1517_0</td>\n",
       "      <td>0</td>\n",
       "      <td>1.579576e+07</td>\n",
       "      <td>897182.0</td>\n",
       "      <td>618823.150490</td>\n",
       "      <td>65253.60</td>\n",
       "      <td>11.0</td>\n",
       "      <td>6.0</td>\n",
       "      <td>25.0</td>\n",
       "      <td>5.0</td>\n",
       "    </tr>\n",
       "    <tr>\n",
       "      <th>2</th>\n",
       "      <td>1833</td>\n",
       "      <td>1923_0</td>\n",
       "      <td>0</td>\n",
       "      <td>1.889800e+07</td>\n",
       "      <td>1299230.0</td>\n",
       "      <td>763459.201459</td>\n",
       "      <td>92280.90</td>\n",
       "      <td>2.0</td>\n",
       "      <td>0.0</td>\n",
       "      <td>0.0</td>\n",
       "      <td>2.0</td>\n",
       "    </tr>\n",
       "    <tr>\n",
       "      <th>3</th>\n",
       "      <td>2710</td>\n",
       "      <td>2660_0</td>\n",
       "      <td>0</td>\n",
       "      <td>1.298973e+07</td>\n",
       "      <td>1078570.0</td>\n",
       "      <td>532250.381374</td>\n",
       "      <td>73461.05</td>\n",
       "      <td>2.0</td>\n",
       "      <td>0.0</td>\n",
       "      <td>0.0</td>\n",
       "      <td>2.0</td>\n",
       "    </tr>\n",
       "    <tr>\n",
       "      <th>4</th>\n",
       "      <td>3620</td>\n",
       "      <td>3636_0</td>\n",
       "      <td>0</td>\n",
       "      <td>1.367422e+07</td>\n",
       "      <td>776581.0</td>\n",
       "      <td>501743.931250</td>\n",
       "      <td>54660.20</td>\n",
       "      <td>1.0</td>\n",
       "      <td>2.0</td>\n",
       "      <td>9.0</td>\n",
       "      <td>2.0</td>\n",
       "    </tr>\n",
       "    <tr>\n",
       "      <th>5</th>\n",
       "      <td>4495</td>\n",
       "      <td>3863_0</td>\n",
       "      <td>0</td>\n",
       "      <td>2.279134e+07</td>\n",
       "      <td>885864.0</td>\n",
       "      <td>806928.584862</td>\n",
       "      <td>78719.90</td>\n",
       "      <td>8.0</td>\n",
       "      <td>13.0</td>\n",
       "      <td>36.0</td>\n",
       "      <td>4.0</td>\n",
       "    </tr>\n",
       "    <tr>\n",
       "      <th>6</th>\n",
       "      <td>5291</td>\n",
       "      <td>4161_0</td>\n",
       "      <td>0</td>\n",
       "      <td>1.647734e+07</td>\n",
       "      <td>1067620.0</td>\n",
       "      <td>699803.391029</td>\n",
       "      <td>77037.80</td>\n",
       "      <td>6.0</td>\n",
       "      <td>1.0</td>\n",
       "      <td>0.0</td>\n",
       "      <td>2.0</td>\n",
       "    </tr>\n",
       "    <tr>\n",
       "      <th>7</th>\n",
       "      <td>6191</td>\n",
       "      <td>4172_0</td>\n",
       "      <td>0</td>\n",
       "      <td>1.729472e+07</td>\n",
       "      <td>874171.0</td>\n",
       "      <td>620558.476752</td>\n",
       "      <td>68208.05</td>\n",
       "      <td>2.0</td>\n",
       "      <td>0.0</td>\n",
       "      <td>0.0</td>\n",
       "      <td>2.0</td>\n",
       "    </tr>\n",
       "    <tr>\n",
       "      <th>8</th>\n",
       "      <td>7115</td>\n",
       "      <td>5027_0</td>\n",
       "      <td>0</td>\n",
       "      <td>2.281632e+07</td>\n",
       "      <td>1134880.0</td>\n",
       "      <td>764893.568584</td>\n",
       "      <td>71828.35</td>\n",
       "      <td>1.0</td>\n",
       "      <td>0.0</td>\n",
       "      <td>0.0</td>\n",
       "      <td>2.0</td>\n",
       "    </tr>\n",
       "    <tr>\n",
       "      <th>9</th>\n",
       "      <td>8025</td>\n",
       "      <td>5178_0</td>\n",
       "      <td>0</td>\n",
       "      <td>1.815310e+07</td>\n",
       "      <td>998682.0</td>\n",
       "      <td>689200.799757</td>\n",
       "      <td>79225.50</td>\n",
       "      <td>9.0</td>\n",
       "      <td>1.0</td>\n",
       "      <td>3.0</td>\n",
       "      <td>2.0</td>\n",
       "    </tr>\n",
       "  </tbody>\n",
       "</table>\n",
       "</div>"
      ],
      "text/plain": [
       "   index visit_id  visit_month      npx_mean  npx_median   peptide_mean  \\\n",
       "0      0     55_0            0  2.028789e+07   1221530.0  748153.907014   \n",
       "1    931   1517_0            0  1.579576e+07    897182.0  618823.150490   \n",
       "2   1833   1923_0            0  1.889800e+07   1299230.0  763459.201459   \n",
       "3   2710   2660_0            0  1.298973e+07   1078570.0  532250.381374   \n",
       "4   3620   3636_0            0  1.367422e+07    776581.0  501743.931250   \n",
       "5   4495   3863_0            0  2.279134e+07    885864.0  806928.584862   \n",
       "6   5291   4161_0            0  1.647734e+07   1067620.0  699803.391029   \n",
       "7   6191   4172_0            0  1.729472e+07    874171.0  620558.476752   \n",
       "8   7115   5027_0            0  2.281632e+07   1134880.0  764893.568584   \n",
       "9   8025   5178_0            0  1.815310e+07    998682.0  689200.799757   \n",
       "\n",
       "   peptide_median  updrs_1  updrs_2  updrs_3  updrs_4  \n",
       "0        93134.80     10.0      6.0     15.0      2.0  \n",
       "1        65253.60     11.0      6.0     25.0      5.0  \n",
       "2        92280.90      2.0      0.0      0.0      2.0  \n",
       "3        73461.05      2.0      0.0      0.0      2.0  \n",
       "4        54660.20      1.0      2.0      9.0      2.0  \n",
       "5        78719.90      8.0     13.0     36.0      4.0  \n",
       "6        77037.80      6.0      1.0      0.0      2.0  \n",
       "7        68208.05      2.0      0.0      0.0      2.0  \n",
       "8        71828.35      1.0      0.0      0.0      2.0  \n",
       "9        79225.50      9.0      1.0      3.0      2.0  "
      ]
     },
     "execution_count": 2,
     "metadata": {},
     "output_type": "execute_result"
    }
   ],
   "source": [
    "train_proteins_df = pd.read_csv('/kaggle/input/amp-parkinsons-disease-progression-prediction/train_proteins.csv')\n",
    "#print(train_proteins_df.shape)\n",
    "#print(train_proteins_df.memory_usage(deep=True).sum()/1024/1024, \" MBs\")\n",
    "#train_proteins_df.head(10)\n",
    "\n",
    "train_peptides_df = pd.read_csv('/kaggle/input/amp-parkinsons-disease-progression-prediction/train_peptides.csv')\n",
    "#print(train_peptides_df.shape)\n",
    "#print(train_peptides_df.memory_usage(deep=True).sum()/1024/1024, \" MBs\")\n",
    "#train_peptides_df.head(10)\n",
    "\n",
    "pro_pep_join = pd.merge(train_proteins_df, train_peptides_df, on=['patient_id','visit_id','visit_month','UniProt'], how='inner')\n",
    "\n",
    "del train_proteins_df, train_peptides_df\n",
    "gc.collect()\n",
    "\n",
    "train_clinical_data_df = pd.read_csv('/kaggle/input/amp-parkinsons-disease-progression-prediction/train_clinical_data.csv')\n",
    "#print(train_clinical_data_df.shape)\n",
    "#print(train_clinical_data_df.memory_usage(deep=True).sum()/1024/1024, \" MBs\")\n",
    "\n",
    "merged_data = pd.merge(pro_pep_join, train_clinical_data_df, on=['patient_id','visit_id','visit_month'], how='inner')\n",
    "\n",
    "del pro_pep_join, train_clinical_data_df\n",
    "gc.collect()\n",
    "\n",
    "full_training_data = pd.DataFrame()\n",
    "\n",
    "for i in [0,6,12,24]:\n",
    "    temp = merged_data[merged_data['visit_month']==i]\n",
    "    full_training_data = full_training_data.append(temp)\n",
    "\n",
    "#print(full_training_data.head(10))\n",
    "    \n",
    "full_training_data = full_training_data.drop(columns=['UniProt','Peptide','upd23b_clinical_state_on_medication','patient_id'])\n",
    "\n",
    "\"\"\"full_training_data_melted = full_training_data.melt(id_vars=['visit_id','visit_month','NPX','PeptideAbundance']\n",
    "                                                    , value_vars=['updrs_1','updrs_2','updrs_3','updrs_4'],var_name='updrs_test', value_name='updrs_test_score')\"\"\"\n",
    "\n",
    "## list_of_updrs_tests = full_training_data_melted.updrs_test.unique()\n",
    "list_of_updrs_tests = ['updrs_1','updrs_2','updrs_3','updrs_4']\n",
    "\n",
    "\"\"\"temp_df = full_training_data_melted.groupby(['updrs_test']).agg(visit_month_per_patient=('visit_id', 'count')\n",
    "                                                      , mean_updrs_test_score=('updrs_test_score', 'mean') ).reset_index(level=['updrs_test'])\"\"\"\n",
    "\n",
    "for i in range(len(list_of_updrs_tests)):\n",
    "    #print(list_of_updrs_tests[i])\n",
    "    #updrs_test_mean = full_training_data[list_of_updrs_tests[i]].mean().round(decimals = 0)\n",
    "    #print(updrs_test_mean)\n",
    "    #full_training_data[list_of_updrs_tests[i]].fillna({list_of_updrs_tests[i]:updrs_test_mean}, inplace=True)\n",
    "    full_training_data[list_of_updrs_tests[i]].fillna(full_training_data[list_of_updrs_tests[i]].mean().round(decimals = 0), inplace=True)\n",
    "\n",
    "#full_training_data[list_of_updrs_tests[i]].fillna(full_training_data['updrs_4'].mean(), inplace=True)\n",
    "#full_training_data.head(10)\n",
    "new_features = full_training_data.groupby(['visit_id','visit_month']).agg(npx_mean=('NPX', 'mean'), npx_median=('NPX', 'median')\n",
    "                                                                          , peptide_mean=('PeptideAbundance', 'mean'), peptide_median=('PeptideAbundance', 'median')\n",
    "                                                          ).reset_index(level=['visit_id','visit_month'])\n",
    "\n",
    "full_training_data = pd.merge(full_training_data, new_features, on=['visit_id','visit_month'], how='inner')\n",
    "full_training_data = full_training_data.drop(columns=['NPX','PeptideAbundance'])\n",
    "full_training_data = full_training_data.drop_duplicates(keep='first')\n",
    "full_training_data = full_training_data[['visit_id','visit_month','npx_mean','npx_median','peptide_mean','peptide_median','updrs_1','updrs_2','updrs_3','updrs_4']]\n",
    "\n",
    "full_training_data = full_training_data.reset_index()\n",
    "#print(full_training_data.shape)\n",
    "full_training_data.head(10)"
   ]
  },
  {
   "cell_type": "markdown",
   "id": "7c208d93",
   "metadata": {
    "papermill": {
     "duration": 0.004936,
     "end_time": "2023-03-22T12:23:53.995481",
     "exception": false,
     "start_time": "2023-03-22T12:23:53.990545",
     "status": "completed"
    },
    "tags": []
   },
   "source": [
    "#### Check for NaNs"
   ]
  },
  {
   "cell_type": "code",
   "execution_count": 3,
   "id": "f29b0400",
   "metadata": {
    "execution": {
     "iopub.execute_input": "2023-03-22T12:23:54.007548Z",
     "iopub.status.busy": "2023-03-22T12:23:54.006874Z",
     "iopub.status.idle": "2023-03-22T12:23:54.017116Z",
     "shell.execute_reply": "2023-03-22T12:23:54.016014Z"
    },
    "papermill": {
     "duration": 0.018795,
     "end_time": "2023-03-22T12:23:54.019265",
     "exception": false,
     "start_time": "2023-03-22T12:23:54.000470",
     "status": "completed"
    },
    "tags": []
   },
   "outputs": [
    {
     "data": {
      "text/plain": [
       "index             0\n",
       "visit_id          0\n",
       "visit_month       0\n",
       "npx_mean          0\n",
       "npx_median        0\n",
       "peptide_mean      0\n",
       "peptide_median    0\n",
       "updrs_1           0\n",
       "updrs_2           0\n",
       "updrs_3           0\n",
       "updrs_4           0\n",
       "dtype: int64"
      ]
     },
     "execution_count": 3,
     "metadata": {},
     "output_type": "execute_result"
    }
   ],
   "source": [
    "full_training_data.isna().sum()"
   ]
  },
  {
   "cell_type": "markdown",
   "id": "8ec63e19",
   "metadata": {
    "papermill": {
     "duration": 0.004855,
     "end_time": "2023-03-22T12:23:54.029417",
     "exception": false,
     "start_time": "2023-03-22T12:23:54.024562",
     "status": "completed"
    },
    "tags": []
   },
   "source": [
    "#### We will attempt to train one model each for each of the UPDRS tests. To do that, we will also proceed to create a train-test split on the Training dataset specific to each of the UPDRS test, to test out the accuracy of the developed models\n",
    "#### We will store all the models in a dictionary\n",
    "#### The following cells (except the declaration of the model dict) will be repeated for all UPDRS tests"
   ]
  },
  {
   "cell_type": "code",
   "execution_count": 4,
   "id": "78326f59",
   "metadata": {
    "execution": {
     "iopub.execute_input": "2023-03-22T12:23:54.041215Z",
     "iopub.status.busy": "2023-03-22T12:23:54.040771Z",
     "iopub.status.idle": "2023-03-22T12:23:54.154495Z",
     "shell.execute_reply": "2023-03-22T12:23:54.152325Z"
    },
    "papermill": {
     "duration": 0.122957,
     "end_time": "2023-03-22T12:23:54.157254",
     "exception": false,
     "start_time": "2023-03-22T12:23:54.034297",
     "status": "completed"
    },
    "tags": []
   },
   "outputs": [
    {
     "name": "stdout",
     "output_type": "stream",
     "text": [
      "(505, 8)\n",
      "(127, 8)\n",
      "{'updrs_1': LinearRegression()}\n",
      "(505, 8)\n",
      "(127, 8)\n",
      "{'updrs_1': LinearRegression(), 'updrs_2': LinearRegression()}\n",
      "(505, 8)\n",
      "(127, 8)\n",
      "{'updrs_1': LinearRegression(), 'updrs_2': LinearRegression(), 'updrs_3': LinearRegression()}\n",
      "(505, 8)\n",
      "(127, 8)\n",
      "{'updrs_1': LinearRegression(), 'updrs_2': LinearRegression(), 'updrs_3': LinearRegression(), 'updrs_4': LinearRegression()}\n"
     ]
    }
   ],
   "source": [
    "model_dict = {}\n",
    "\n",
    "for i in [1,2,3,4]:\n",
    "    if (i == 1) | (i == 2):\n",
    "        full_training_data['updrs_'+str(i)+'_category'] = pd.cut(full_training_data['updrs_'+str(i)],bins=[-np.inf, 15., np.inf],labels=[1,2])\n",
    "    elif i == 3:\n",
    "        full_training_data['updrs_'+str(i)+'_category'] = pd.cut(full_training_data['updrs_'+str(i)],bins=[-np.inf, 20., 40., np.inf],labels=[1,2,3])\n",
    "    else:\n",
    "        full_training_data['updrs_'+str(i)+'_category'] = pd.cut(full_training_data['updrs_'+str(i)],bins=[-np.inf, 7.5, np.inf],labels=[1,2])\n",
    "        \n",
    "    split = StratifiedShuffleSplit(n_splits=1, test_size=0.2, random_state=42)\n",
    "    for train_index, test_index in split.split(full_training_data, full_training_data['updrs_'+str(i)+'_category']):\n",
    "        strat_train_set = full_training_data.loc[train_index]\n",
    "        strat_test_set = full_training_data.loc[test_index]\n",
    "        \n",
    "    if i == 1:\n",
    "        strat_train_set = strat_train_set.drop(columns=['updrs_1_category'])\n",
    "        strat_test_set = strat_test_set.drop(columns=['updrs_1_category'])\n",
    "    elif i == 2:\n",
    "        strat_train_set = strat_train_set.drop(columns=['updrs_1_category','updrs_2_category'])\n",
    "        strat_test_set = strat_test_set.drop(columns=['updrs_1_category','updrs_2_category'])\n",
    "    elif i == 3:\n",
    "        strat_train_set = strat_train_set.drop(columns=['updrs_1_category','updrs_2_category','updrs_3_category'])\n",
    "        strat_test_set = strat_test_set.drop(columns=['updrs_1_category','updrs_2_category','updrs_3_category'])\n",
    "    else:\n",
    "        strat_train_set = strat_train_set.drop(columns=['updrs_1_category','updrs_2_category','updrs_3_category','updrs_4_category'])\n",
    "        strat_test_set = strat_test_set.drop(columns=['updrs_1_category','updrs_2_category','updrs_3_category','updrs_4_category'])\n",
    "    \n",
    "    strat_train_set_wo_labels = strat_train_set.drop(columns=['updrs_1','updrs_2','updrs_3','updrs_4','index'])\n",
    "    strat_train_set_labels = strat_train_set['updrs_'+str(i)].copy()\n",
    "    strat_train_set_numeric = strat_train_set_wo_labels.drop(columns=['visit_id','visit_month'])\n",
    "    strat_train_set_cat = strat_train_set_wo_labels[['visit_month']]\n",
    "\n",
    "    strat_test_set_wo_labels = strat_test_set.drop(columns=['updrs_1','updrs_2','updrs_3','updrs_4','index'])\n",
    "    strat_test_set_labels = strat_test_set['updrs_'+str(i)].copy()\n",
    "    \n",
    "    numeric_pipeline = Pipeline([\n",
    "        ('standard_scaler', StandardScaler())\n",
    "    ])\n",
    "\n",
    "    numeric_attributes = list(strat_train_set_numeric)\n",
    "    categorical_attributes = list(strat_train_set_cat)\n",
    "\n",
    "    full_pipeline = ColumnTransformer([\n",
    "        ('num', numeric_pipeline, numeric_attributes),\n",
    "        ('cat', OneHotEncoder(handle_unknown='ignore'), categorical_attributes)\n",
    "    ])\n",
    "\n",
    "    strat_train_set_prepared = full_pipeline.fit_transform(strat_train_set_wo_labels)\n",
    "    print(strat_train_set_prepared.shape)\n",
    "    strat_test_set_prepared = full_pipeline.transform(strat_test_set_wo_labels)\n",
    "    print(strat_test_set_prepared.shape)\n",
    "    \n",
    "    lin_reg = LinearRegression()\n",
    "\n",
    "    model_dict['updrs_'+str(i)] = lin_reg.fit(strat_train_set_prepared, strat_train_set_labels)\n",
    "    print(model_dict)"
   ]
  },
  {
   "cell_type": "markdown",
   "id": "d9aed4cc",
   "metadata": {
    "papermill": {
     "duration": 0.005077,
     "end_time": "2023-03-22T12:23:54.167723",
     "exception": false,
     "start_time": "2023-03-22T12:23:54.162646",
     "status": "completed"
    },
    "tags": []
   },
   "source": [
    "#### The commands below are for debugging only, these were used to determine the bins corresponding to the train-test split specific to UPDRS tests"
   ]
  },
  {
   "cell_type": "code",
   "execution_count": 5,
   "id": "afe82b63",
   "metadata": {
    "execution": {
     "iopub.execute_input": "2023-03-22T12:23:54.180447Z",
     "iopub.status.busy": "2023-03-22T12:23:54.180019Z",
     "iopub.status.idle": "2023-03-22T12:23:55.058577Z",
     "shell.execute_reply": "2023-03-22T12:23:55.057496Z"
    },
    "papermill": {
     "duration": 0.888756,
     "end_time": "2023-03-22T12:23:55.061871",
     "exception": false,
     "start_time": "2023-03-22T12:23:54.173115",
     "status": "completed"
    },
    "tags": []
   },
   "outputs": [
    {
     "data": {
      "text/plain": [
       "array([[<AxesSubplot:title={'center':'updrs_1'}>,\n",
       "        <AxesSubplot:title={'center':'updrs_2'}>],\n",
       "       [<AxesSubplot:title={'center':'updrs_3'}>,\n",
       "        <AxesSubplot:title={'center':'updrs_4'}>]], dtype=object)"
      ]
     },
     "execution_count": 5,
     "metadata": {},
     "output_type": "execute_result"
    },
    {
     "data": {
      "image/png": "[encoded data removed]",
      "text/plain": [
       "<Figure size 2000x1500 with 4 Axes>"
      ]
     },
     "metadata": {},
     "output_type": "display_data"
    }
   ],
   "source": [
    "#full_training_data_melted[['updrs_test_score','PeptideAbundance','NPX','group_key']].corr()\n",
    "full_training_data[['updrs_1','updrs_2','updrs_3','updrs_4']].hist(figsize=(20,15))"
   ]
  },
  {
   "cell_type": "code",
   "execution_count": 6,
   "id": "e52b55fc",
   "metadata": {
    "execution": {
     "iopub.execute_input": "2023-03-22T12:23:55.076468Z",
     "iopub.status.busy": "2023-03-22T12:23:55.076099Z",
     "iopub.status.idle": "2023-03-22T12:23:55.083155Z",
     "shell.execute_reply": "2023-03-22T12:23:55.082085Z"
    },
    "papermill": {
     "duration": 0.017567,
     "end_time": "2023-03-22T12:23:55.085521",
     "exception": false,
     "start_time": "2023-03-22T12:23:55.067954",
     "status": "completed"
    },
    "tags": []
   },
   "outputs": [
    {
     "data": {
      "text/plain": [
       "\"full_training_data['updrs_2_category'] = pd.cut(full_training_data['updrs_2'],\\n                                                          bins=[-np.inf, 15., np.inf],\\n                                                          labels=[1,2])\\n\\nfull_training_data['updrs_3_category'] = pd.cut(full_training_data['updrs_3'],\\n                                                          bins=[-np.inf, 20., 40., np.inf],\\n                                                          labels=[1,2,3])\\n\\nfull_training_data['updrs_4_category'] = pd.cut(full_training_data['updrs_4'],\\n                                                          bins=[-np.inf, 7.5, np.inf],\\n                                                          labels=[1,2])\\n\\nfull_training_data['updrs_4_category'].hist()\\n\\nfull_training_data['updrs_4_category'].unique()\\nsplit = StratifiedShuffleSplit(n_splits=1, test_size=0.2, random_state=42)\\nfor train_index, test_index in split.split(full_training_data, full_training_data['updrs_4_category']):\\n    strat_train_set = full_training_data.loc[train_index]\\n    strat_test_set = full_training_data.loc[test_index]\\n    \\nprint(strat_test_set['updrs_4_category'].value_counts()/len(strat_test_set))\\nprint(strat_train_set['updrs_4_category'].value_counts()/len(strat_train_set))\\n\\n\""
      ]
     },
     "execution_count": 6,
     "metadata": {},
     "output_type": "execute_result"
    }
   ],
   "source": [
    "\"\"\"full_training_data['updrs_2_category'] = pd.cut(full_training_data['updrs_2'],\n",
    "                                                          bins=[-np.inf, 15., np.inf],\n",
    "                                                          labels=[1,2])\n",
    "\n",
    "full_training_data['updrs_3_category'] = pd.cut(full_training_data['updrs_3'],\n",
    "                                                          bins=[-np.inf, 20., 40., np.inf],\n",
    "                                                          labels=[1,2,3])\n",
    "\n",
    "full_training_data['updrs_4_category'] = pd.cut(full_training_data['updrs_4'],\n",
    "                                                          bins=[-np.inf, 7.5, np.inf],\n",
    "                                                          labels=[1,2])\n",
    "\n",
    "full_training_data['updrs_4_category'].hist()\n",
    "\n",
    "full_training_data['updrs_4_category'].unique()\n",
    "split = StratifiedShuffleSplit(n_splits=1, test_size=0.2, random_state=42)\n",
    "for train_index, test_index in split.split(full_training_data, full_training_data['updrs_4_category']):\n",
    "    strat_train_set = full_training_data.loc[train_index]\n",
    "    strat_test_set = full_training_data.loc[test_index]\n",
    "    \n",
    "print(strat_test_set['updrs_4_category'].value_counts()/len(strat_test_set))\n",
    "print(strat_train_set['updrs_4_category'].value_counts()/len(strat_train_set))\n",
    "\n",
    "\"\"\""
   ]
  },
  {
   "cell_type": "markdown",
   "id": "bc36ff28",
   "metadata": {
    "papermill": {
     "duration": 0.005769,
     "end_time": "2023-03-22T12:23:55.097726",
     "exception": false,
     "start_time": "2023-03-22T12:23:55.091957",
     "status": "completed"
    },
    "tags": []
   },
   "source": [
    "### Testing the RMSE\n",
    "#### RMSE <= 0.75 : Very good accuracy | 0.75 < RMSE <= 1.0 : Good accuracy"
   ]
  },
  {
   "cell_type": "markdown",
   "id": "8886eddf",
   "metadata": {
    "papermill": {
     "duration": 0.005886,
     "end_time": "2023-03-22T12:23:55.109751",
     "exception": false,
     "start_time": "2023-03-22T12:23:55.103865",
     "status": "completed"
    },
    "tags": []
   },
   "source": [
    "#### First on train data (train split from the full training dataset)\n",
    "#### 2nd on test data (test split from the full training dataset)"
   ]
  },
  {
   "cell_type": "code",
   "execution_count": 7,
   "id": "dd20b823",
   "metadata": {
    "execution": {
     "iopub.execute_input": "2023-03-22T12:23:55.123938Z",
     "iopub.status.busy": "2023-03-22T12:23:55.123567Z",
     "iopub.status.idle": "2023-03-22T12:23:55.130178Z",
     "shell.execute_reply": "2023-03-22T12:23:55.128976Z"
    },
    "papermill": {
     "duration": 0.016631,
     "end_time": "2023-03-22T12:23:55.132502",
     "exception": false,
     "start_time": "2023-03-22T12:23:55.115871",
     "status": "completed"
    },
    "tags": []
   },
   "outputs": [
    {
     "data": {
      "text/plain": [
       "\"train_df_predictions = lin_reg_model_updrs_4.predict(strat_train_set_prepared)\\nmse = mean_squared_error(strat_train_set_labels, train_df_predictions)\\nrmse = np.sqrt(mse)\\nprint(rmse)\\n\\ntest_df_predictions = lin_reg_model_updrs_4.predict(strat_test_set_prepared)\\nmse = mean_squared_error(strat_test_set_labels, test_df_predictions)\\nrmse = np.sqrt(mse)\\nprint(rmse)\\n\\nmodel_dict['updrs_4'] = lin_reg_model_updrs_4\\nmodel_dict\""
      ]
     },
     "execution_count": 7,
     "metadata": {},
     "output_type": "execute_result"
    }
   ],
   "source": [
    "\"\"\"train_df_predictions = lin_reg_model_updrs_4.predict(strat_train_set_prepared)\n",
    "mse = mean_squared_error(strat_train_set_labels, train_df_predictions)\n",
    "rmse = np.sqrt(mse)\n",
    "print(rmse)\n",
    "\n",
    "test_df_predictions = lin_reg_model_updrs_4.predict(strat_test_set_prepared)\n",
    "mse = mean_squared_error(strat_test_set_labels, test_df_predictions)\n",
    "rmse = np.sqrt(mse)\n",
    "print(rmse)\n",
    "\n",
    "model_dict['updrs_4'] = lin_reg_model_updrs_4\n",
    "model_dict\"\"\""
   ]
  },
  {
   "cell_type": "markdown",
   "id": "e85b4c79",
   "metadata": {
    "papermill": {
     "duration": 0.006306,
     "end_time": "2023-03-22T12:23:55.145089",
     "exception": false,
     "start_time": "2023-03-22T12:23:55.138783",
     "status": "completed"
    },
    "tags": []
   },
   "source": [
    "#### The below cell is only for debugging the function get_predictions()"
   ]
  },
  {
   "cell_type": "code",
   "execution_count": 8,
   "id": "b9be7ca1",
   "metadata": {
    "execution": {
     "iopub.execute_input": "2023-03-22T12:23:55.159404Z",
     "iopub.status.busy": "2023-03-22T12:23:55.158987Z",
     "iopub.status.idle": "2023-03-22T12:23:55.167631Z",
     "shell.execute_reply": "2023-03-22T12:23:55.166552Z"
    },
    "papermill": {
     "duration": 0.018694,
     "end_time": "2023-03-22T12:23:55.170029",
     "exception": false,
     "start_time": "2023-03-22T12:23:55.151335",
     "status": "completed"
    },
    "tags": []
   },
   "outputs": [
    {
     "data": {
      "text/plain": [
       "'df_proteins = pd.read_csv(\\'/kaggle/input/amp-parkinsons-disease-progression-prediction/example_test_files/test_proteins.csv\\')\\nprint(df_proteins.shape)\\n\\ndf_peptides = pd.read_csv(\\'/kaggle/input/amp-parkinsons-disease-progression-prediction/example_test_files/test_peptides.csv\\')\\nprint(df_peptides.shape)\\n\\npro_pep_join = pd.merge(df_proteins, df_peptides, on=[\\'patient_id\\',\\'visit_id\\',\\'visit_month\\',\\'UniProt\\'], how=\\'inner\\')\\ndel df_proteins, df_peptides\\ngc.collect()\\n\\nfull_test_data = pd.DataFrame()\\n\\nfor i in [0,6,12,24]:\\n    temp = pro_pep_join[pro_pep_join[\\'visit_month\\']==i]\\n    full_test_data = full_test_data.append(temp)\\n\\nfull_test_data = full_test_data.drop(columns=[\\'UniProt\\',\\'Peptide\\',\\'patient_id\\',\\'group_key_x\\',\\'group_key_y\\'])\\n\\nlist_of_updrs_tests = [\\'updrs_1\\',\\'updrs_2\\',\\'updrs_3\\',\\'updrs_4\\']\\n    \\nnew_features = full_test_data.groupby([\\'visit_id\\',\\'visit_month\\']).agg(npx_mean=(\\'NPX\\', \\'mean\\'), npx_median=(\\'NPX\\', \\'median\\')\\n                                                                          , peptide_mean=(\\'PeptideAbundance\\', \\'mean\\'), peptide_median=(\\'PeptideAbundance\\', \\'median\\')\\n                                                          ).reset_index(level=[\\'visit_id\\',\\'visit_month\\'])\\n\\nfull_test_data = pd.merge(full_test_data, new_features, on=[\\'visit_id\\',\\'visit_month\\'], how=\\'inner\\')\\nfull_test_data = full_test_data.drop(columns=[\\'NPX\\',\\'PeptideAbundance\\'])\\nfull_test_data = full_test_data.drop_duplicates(keep=\\'first\\')\\nfull_test_data = full_test_data[[\\'visit_id\\',\\'visit_month\\',\\'npx_mean\\',\\'npx_median\\',\\'peptide_mean\\',\\'peptide_median\\']]\\n\\nfull_test_data = full_test_data.reset_index()\\nfull_test_data = full_test_data.drop(columns=[\\'index\\'])\\n\\ndf_prepared = full_pipeline.transform(full_test_data)\\nprint(df_prepared.shape)\\n\\nfor u in list_of_updrs_tests:\\n    full_test_data[\\'result_\\' + str(u)] = pd.DataFrame(model_dict[u].predict(df_prepared),columns=[\\'rating\\']).round(decimals=0)\\n    \\nresult = pd.DataFrame()\\n\\nfor m in [0, 6, 12, 24]:\\n    for u in [1, 2, 3, 4]:\\n        temp = full_test_data[[\\'visit_id\\', \\'result_updrs_\\' + str(u)]]\\n        temp[\\'prediction_id\\'] = temp[\\'visit_id\\'] + \\'_updrs_\\' + str(u) + \\'_plus_\\' + str(m) + \\'_months\\'\\n        temp[\"rating\"] = temp[\"result_updrs_\" + str(u)]\\n        temp = temp [[\\'prediction_id\\', \\'rating\\']]\\n\\n        result = result.append(temp)\\n\\nresult = result.drop_duplicates(subset=[\\'prediction_id\\', \\'rating\\'])\\n\\nresult'"
      ]
     },
     "execution_count": 8,
     "metadata": {},
     "output_type": "execute_result"
    }
   ],
   "source": [
    "\"\"\"df_proteins = pd.read_csv('/kaggle/input/amp-parkinsons-disease-progression-prediction/example_test_files/test_proteins.csv')\n",
    "print(df_proteins.shape)\n",
    "\n",
    "df_peptides = pd.read_csv('/kaggle/input/amp-parkinsons-disease-progression-prediction/example_test_files/test_peptides.csv')\n",
    "print(df_peptides.shape)\n",
    "\n",
    "pro_pep_join = pd.merge(df_proteins, df_peptides, on=['patient_id','visit_id','visit_month','UniProt'], how='inner')\n",
    "del df_proteins, df_peptides\n",
    "gc.collect()\n",
    "\n",
    "full_test_data = pd.DataFrame()\n",
    "\n",
    "for i in [0,6,12,24]:\n",
    "    temp = pro_pep_join[pro_pep_join['visit_month']==i]\n",
    "    full_test_data = full_test_data.append(temp)\n",
    "\n",
    "full_test_data = full_test_data.drop(columns=['UniProt','Peptide','patient_id','group_key_x','group_key_y'])\n",
    "\n",
    "list_of_updrs_tests = ['updrs_1','updrs_2','updrs_3','updrs_4']\n",
    "    \n",
    "new_features = full_test_data.groupby(['visit_id','visit_month']).agg(npx_mean=('NPX', 'mean'), npx_median=('NPX', 'median')\n",
    "                                                                          , peptide_mean=('PeptideAbundance', 'mean'), peptide_median=('PeptideAbundance', 'median')\n",
    "                                                          ).reset_index(level=['visit_id','visit_month'])\n",
    "\n",
    "full_test_data = pd.merge(full_test_data, new_features, on=['visit_id','visit_month'], how='inner')\n",
    "full_test_data = full_test_data.drop(columns=['NPX','PeptideAbundance'])\n",
    "full_test_data = full_test_data.drop_duplicates(keep='first')\n",
    "full_test_data = full_test_data[['visit_id','visit_month','npx_mean','npx_median','peptide_mean','peptide_median']]\n",
    "\n",
    "full_test_data = full_test_data.reset_index()\n",
    "full_test_data = full_test_data.drop(columns=['index'])\n",
    "\n",
    "df_prepared = full_pipeline.transform(full_test_data)\n",
    "print(df_prepared.shape)\n",
    "\n",
    "for u in list_of_updrs_tests:\n",
    "    full_test_data['result_' + str(u)] = pd.DataFrame(model_dict[u].predict(df_prepared),columns=['rating']).round(decimals=0)\n",
    "    \n",
    "result = pd.DataFrame()\n",
    "\n",
    "for m in [0, 6, 12, 24]:\n",
    "    for u in [1, 2, 3, 4]:\n",
    "        temp = full_test_data[['visit_id', 'result_updrs_' + str(u)]]\n",
    "        temp['prediction_id'] = temp['visit_id'] + '_updrs_' + str(u) + '_plus_' + str(m) + '_months'\n",
    "        temp[\"rating\"] = temp[\"result_updrs_\" + str(u)]\n",
    "        temp = temp [['prediction_id', 'rating']]\n",
    "\n",
    "        result = result.append(temp)\n",
    "\n",
    "result = result.drop_duplicates(subset=['prediction_id', 'rating'])\n",
    "\n",
    "result\"\"\""
   ]
  },
  {
   "cell_type": "code",
   "execution_count": 9,
   "id": "85bb879d",
   "metadata": {
    "execution": {
     "iopub.execute_input": "2023-03-22T12:23:55.185750Z",
     "iopub.status.busy": "2023-03-22T12:23:55.185354Z",
     "iopub.status.idle": "2023-03-22T12:23:55.199253Z",
     "shell.execute_reply": "2023-03-22T12:23:55.198002Z"
    },
    "papermill": {
     "duration": 0.024145,
     "end_time": "2023-03-22T12:23:55.201678",
     "exception": false,
     "start_time": "2023-03-22T12:23:55.177533",
     "status": "completed"
    },
    "tags": []
   },
   "outputs": [],
   "source": [
    "def get_predictions(df_proteins, df_peptides, model_dict, sklearn_pipeline):\n",
    "    pro_pep_join = pd.merge(df_proteins, df_peptides, on=['patient_id','visit_id','visit_month','UniProt'], how='inner')\n",
    "    del df_proteins, df_peptides\n",
    "    gc.collect()\n",
    "\n",
    "    full_test_data = pd.DataFrame()\n",
    "\n",
    "    for i in [0,6,12,24]:\n",
    "        temp = pro_pep_join[pro_pep_join['visit_month']==i]\n",
    "        full_test_data = full_test_data.append(temp)\n",
    "\n",
    "    #full_test_data = full_test_data.drop(columns=['UniProt','Peptide','patient_id','group_key_x','group_key_y'])\n",
    "\n",
    "    list_of_updrs_tests = ['updrs_1','updrs_2','updrs_3','updrs_4']\n",
    "\n",
    "    new_features = full_test_data.groupby(['visit_id','visit_month']).agg(npx_mean=('NPX', 'mean'), npx_median=('NPX', 'median')\n",
    "                                                                              , peptide_mean=('PeptideAbundance', 'mean'), peptide_median=('PeptideAbundance', 'median')\n",
    "                                                              ).reset_index(level=['visit_id','visit_month'])\n",
    "\n",
    "    full_test_data = pd.merge(full_test_data, new_features, on=['visit_id','visit_month'], how='inner')\n",
    "    #full_test_data = full_test_data.drop(columns=['NPX','PeptideAbundance'])\n",
    "    full_test_data = full_test_data.drop_duplicates(keep='first')\n",
    "    full_test_data = full_test_data[['visit_id','visit_month','npx_mean','npx_median','peptide_mean','peptide_median']]\n",
    "\n",
    "    full_test_data = full_test_data.reset_index()\n",
    "    full_test_data = full_test_data.drop(columns=['index'])\n",
    "    \n",
    "    df_prepared = sklearn_pipeline.transform(full_test_data)\n",
    "    print(df_prepared.shape)\n",
    "\n",
    "    for u in list_of_updrs_tests:\n",
    "        full_test_data['result_' + str(u)] = pd.DataFrame(model_dict[u].predict(df_prepared),columns=['rating']).round(decimals=0)\n",
    "    \n",
    "    result = pd.DataFrame()\n",
    "\n",
    "    for m in [0, 6, 12, 24]:\n",
    "        for u in [1, 2, 3, 4]:\n",
    "            temp = full_test_data[['visit_id', 'result_updrs_' + str(u)]]\n",
    "            temp['prediction_id'] = temp['visit_id'] + '_updrs_' + str(u) + '_plus_' + str(m) + '_months'\n",
    "            temp[\"rating\"] = temp[\"result_updrs_\" + str(u)]\n",
    "            temp = temp [['prediction_id', 'rating']]\n",
    "\n",
    "            result = result.append(temp)\n",
    "\n",
    "    result = result.drop_duplicates(subset=['prediction_id', 'rating'])\n",
    "    \n",
    "    return result"
   ]
  },
  {
   "cell_type": "code",
   "execution_count": 10,
   "id": "46191020",
   "metadata": {
    "execution": {
     "iopub.execute_input": "2023-03-22T12:23:55.217098Z",
     "iopub.status.busy": "2023-03-22T12:23:55.216011Z",
     "iopub.status.idle": "2023-03-22T12:23:55.717805Z",
     "shell.execute_reply": "2023-03-22T12:23:55.716333Z"
    },
    "papermill": {
     "duration": 0.512555,
     "end_time": "2023-03-22T12:23:55.720816",
     "exception": false,
     "start_time": "2023-03-22T12:23:55.208261",
     "status": "completed"
    },
    "tags": []
   },
   "outputs": [
    {
     "name": "stdout",
     "output_type": "stream",
     "text": [
      "This version of the API is not optimized and should not be used to estimate the runtime of your code on the hidden test set.\n",
      "(1021, 8)\n"
     ]
    },
    {
     "name": "stderr",
     "output_type": "stream",
     "text": [
      "/opt/conda/lib/python3.7/site-packages/ipykernel_launcher.py:39: SettingWithCopyWarning: \n",
      "A value is trying to be set on a copy of a slice from a DataFrame.\n",
      "Try using .loc[row_indexer,col_indexer] = value instead\n",
      "\n",
      "See the caveats in the documentation: https://pandas.pydata.org/pandas-docs/stable/user_guide/indexing.html#returning-a-view-versus-a-copy\n",
      "/opt/conda/lib/python3.7/site-packages/ipykernel_launcher.py:40: SettingWithCopyWarning: \n",
      "A value is trying to be set on a copy of a slice from a DataFrame.\n",
      "Try using .loc[row_indexer,col_indexer] = value instead\n",
      "\n",
      "See the caveats in the documentation: https://pandas.pydata.org/pandas-docs/stable/user_guide/indexing.html#returning-a-view-versus-a-copy\n"
     ]
    },
    {
     "name": "stdout",
     "output_type": "stream",
     "text": [
      "(1036, 8)\n"
     ]
    },
    {
     "name": "stderr",
     "output_type": "stream",
     "text": [
      "/opt/conda/lib/python3.7/site-packages/ipykernel_launcher.py:39: SettingWithCopyWarning: \n",
      "A value is trying to be set on a copy of a slice from a DataFrame.\n",
      "Try using .loc[row_indexer,col_indexer] = value instead\n",
      "\n",
      "See the caveats in the documentation: https://pandas.pydata.org/pandas-docs/stable/user_guide/indexing.html#returning-a-view-versus-a-copy\n",
      "/opt/conda/lib/python3.7/site-packages/ipykernel_launcher.py:40: SettingWithCopyWarning: \n",
      "A value is trying to be set on a copy of a slice from a DataFrame.\n",
      "Try using .loc[row_indexer,col_indexer] = value instead\n",
      "\n",
      "See the caveats in the documentation: https://pandas.pydata.org/pandas-docs/stable/user_guide/indexing.html#returning-a-view-versus-a-copy\n"
     ]
    }
   ],
   "source": [
    "import amp_pd_peptide\n",
    "env = amp_pd_peptide.make_env()   # initialize the environment\n",
    "iter_test = env.iter_test()\n",
    "\n",
    "for (test, test_peptides, test_proteins, submission) in iter_test:\n",
    "    result = get_predictions(test_proteins, test_peptides, model_dict, full_pipeline)\n",
    "    env.predict(result)\n",
    "    \n",
    "##result.to_csv('/kaggle/working/submission.csv', header=True, index=False)"
   ]
  },
  {
   "cell_type": "code",
   "execution_count": null,
   "id": "5ac8d836",
   "metadata": {
    "papermill": {
     "duration": 0.00674,
     "end_time": "2023-03-22T12:23:55.734671",
     "exception": false,
     "start_time": "2023-03-22T12:23:55.727931",
     "status": "completed"
    },
    "tags": []
   },
   "outputs": [],
   "source": []
  }
 ],
 "metadata": {
  "kernelspec": {
   "display_name": "Python 3",
   "language": "python",
   "name": "python3"
  },
  "language_info": {
   "codemirror_mode": {
    "name": "ipython",
    "version": 3
   },
   "file_extension": ".py",
   "mimetype": "text/x-python",
   "name": "python",
   "nbconvert_exporter": "python",
   "pygments_lexer": "ipython3",
   "version": "3.7.12"
  },
  "papermill": {
   "default_parameters": {},
   "duration": 16.630068,
   "end_time": "2023-03-22T12:23:56.566073",
   "environment_variables": {},
   "exception": null,
   "input_path": "__notebook__.ipynb",
   "output_path": "__notebook__.ipynb",
   "parameters": {},
   "start_time": "2023-03-22T12:23:39.936005",
   "version": "2.4.0"
  }
 },
 "nbformat": 4,
 "nbformat_minor": 5
}
