{
 "cells": [
  {
   "cell_type": "code",
   "execution_count": 1,
   "id": "191a491b",
   "metadata": {
    "_cell_guid": "b1076dfc-b9ad-4769-8c92-a6c4dae69d19",
    "_uuid": "8f2839f25d086af736a60e9eeb907d3b93b6e0e5",
    "execution": {
     "iopub.execute_input": "2023-03-18T16:32:58.249420Z",
     "iopub.status.busy": "2023-03-18T16:32:58.249083Z",
     "iopub.status.idle": "2023-03-18T16:32:59.586733Z",
     "shell.execute_reply": "2023-03-18T16:32:59.585802Z"
    },
    "papermill": {
     "duration": 1.34737,
     "end_time": "2023-03-18T16:32:59.589362",
     "exception": false,
     "start_time": "2023-03-18T16:32:58.241992",
     "status": "completed"
    },
    "tags": []
   },
   "outputs": [
    {
     "name": "stdout",
     "output_type": "stream",
     "text": [
      "/kaggle/input/amp-parkinsons-disease-progression-prediction/train_proteins.csv\n",
      "/kaggle/input/amp-parkinsons-disease-progression-prediction/train_clinical_data.csv\n",
      "/kaggle/input/amp-parkinsons-disease-progression-prediction/public_timeseries_testing_util.py\n",
      "/kaggle/input/amp-parkinsons-disease-progression-prediction/supplemental_clinical_data.csv\n",
      "/kaggle/input/amp-parkinsons-disease-progression-prediction/train_peptides.csv\n",
      "/kaggle/input/amp-parkinsons-disease-progression-prediction/amp_pd_peptide/competition.cpython-37m-x86_64-linux-gnu.so\n",
      "/kaggle/input/amp-parkinsons-disease-progression-prediction/amp_pd_peptide/__init__.py\n",
      "/kaggle/input/amp-parkinsons-disease-progression-prediction/example_test_files/sample_submission.csv\n",
      "/kaggle/input/amp-parkinsons-disease-progression-prediction/example_test_files/test_proteins.csv\n",
      "/kaggle/input/amp-parkinsons-disease-progression-prediction/example_test_files/test_peptides.csv\n",
      "/kaggle/input/amp-parkinsons-disease-progression-prediction/example_test_files/test.csv\n"
     ]
    }
   ],
   "source": [
    "# This Python 3 environment comes with many helpful analytics libraries installed\n",
    "# It is defined by the kaggle/python Docker image: https://github.com/kaggle/docker-python\n",
    "# For example, here's several helpful packages to load\n",
    "\n",
    "import numpy as np # linear algebra\n",
    "import pandas as pd # data processing, CSV file I/O (e.g. pd.read_csv)\n",
    "import os\n",
    "import gc\n",
    "from pandas.plotting import scatter_matrix\n",
    "%matplotlib inline\n",
    "import matplotlib.pyplot as plt\n",
    "\n",
    "from sklearn.model_selection import StratifiedShuffleSplit\n",
    "from sklearn.compose import ColumnTransformer\n",
    "from sklearn.preprocessing import OneHotEncoder\n",
    "from sklearn.preprocessing import PolynomialFeatures\n",
    "from sklearn.pipeline import Pipeline\n",
    "from sklearn.preprocessing import StandardScaler\n",
    "\n",
    "from sklearn.metrics import mean_squared_error\n",
    "\n",
    "# Input data files are available in the read-only \"../input/\" directory\n",
    "# For example, running this (by clicking run or pressing Shift+Enter) will list all files under the input directory\n",
    "\n",
    "import os\n",
    "for dirname, _, filenames in os.walk('/kaggle/input'):\n",
    "    for filename in filenames:\n",
    "        print(os.path.join(dirname, filename))\n",
    "\n",
    "# You can write up to 20GB to the current directory (/kaggle/working/) that gets preserved as output when you create a version using \"Save & Run All\" \n",
    "# You can also write temporary files to /kaggle/temp/, but they won't be saved outside of the current session"
   ]
  },
  {
   "cell_type": "code",
   "execution_count": 2,
   "id": "a03ac106",
   "metadata": {
    "execution": {
     "iopub.execute_input": "2023-03-18T16:32:59.602250Z",
     "iopub.status.busy": "2023-03-18T16:32:59.601498Z",
     "iopub.status.idle": "2023-03-18T16:33:01.295905Z",
     "shell.execute_reply": "2023-03-18T16:33:01.294464Z"
    },
    "papermill": {
     "duration": 1.704554,
     "end_time": "2023-03-18T16:33:01.299395",
     "exception": false,
     "start_time": "2023-03-18T16:32:59.594841",
     "status": "completed"
    },
    "tags": []
   },
   "outputs": [
    {
     "name": "stdout",
     "output_type": "stream",
     "text": [
      "(232741, 5)\n",
      "33.64677047729492  MBs\n",
      "(981834, 6)\n",
      "212.76564979553223  MBs\n"
     ]
    }
   ],
   "source": [
    "train_proteins_df = pd.read_csv('/kaggle/input/amp-parkinsons-disease-progression-prediction/train_proteins.csv')\n",
    "print(train_proteins_df.shape)\n",
    "print(train_proteins_df.memory_usage(deep=True).sum()/1024/1024, \" MBs\")\n",
    "#train_proteins_df.head(10)\n",
    "\n",
    "train_peptides_df = pd.read_csv('/kaggle/input/amp-parkinsons-disease-progression-prediction/train_peptides.csv')\n",
    "print(train_peptides_df.shape)\n",
    "print(train_peptides_df.memory_usage(deep=True).sum()/1024/1024, \" MBs\")\n",
    "#train_peptides_df.head(10)"
   ]
  },
  {
   "cell_type": "code",
   "execution_count": 3,
   "id": "5fc63578",
   "metadata": {
    "execution": {
     "iopub.execute_input": "2023-03-18T16:33:01.310542Z",
     "iopub.status.busy": "2023-03-18T16:33:01.310228Z",
     "iopub.status.idle": "2023-03-18T16:33:02.226620Z",
     "shell.execute_reply": "2023-03-18T16:33:02.224903Z"
    },
    "papermill": {
     "duration": 0.925216,
     "end_time": "2023-03-18T16:33:02.229582",
     "exception": false,
     "start_time": "2023-03-18T16:33:01.304366",
     "status": "completed"
    },
    "tags": []
   },
   "outputs": [
    {
     "name": "stdout",
     "output_type": "stream",
     "text": [
      "(2615, 8)\n",
      "0.3944511413574219  MBs\n",
      "(941744, 8)\n"
     ]
    },
    {
     "data": {
      "text/html": [
       "<div>\n",
       "<style scoped>\n",
       "    .dataframe tbody tr th:only-of-type {\n",
       "        vertical-align: middle;\n",
       "    }\n",
       "\n",
       "    .dataframe tbody tr th {\n",
       "        vertical-align: top;\n",
       "    }\n",
       "\n",
       "    .dataframe thead th {\n",
       "        text-align: right;\n",
       "    }\n",
       "</style>\n",
       "<table border=\"1\" class=\"dataframe\">\n",
       "  <thead>\n",
       "    <tr style=\"text-align: right;\">\n",
       "      <th></th>\n",
       "      <th>visit_id</th>\n",
       "      <th>visit_month</th>\n",
       "      <th>NPX</th>\n",
       "      <th>PeptideAbundance</th>\n",
       "      <th>updrs_1</th>\n",
       "      <th>updrs_2</th>\n",
       "      <th>updrs_3</th>\n",
       "      <th>updrs_4</th>\n",
       "    </tr>\n",
       "  </thead>\n",
       "  <tbody>\n",
       "    <tr>\n",
       "      <th>0</th>\n",
       "      <td>55_0</td>\n",
       "      <td>0</td>\n",
       "      <td>11254.3</td>\n",
       "      <td>11254.3</td>\n",
       "      <td>10.0</td>\n",
       "      <td>6.0</td>\n",
       "      <td>15.0</td>\n",
       "      <td>NaN</td>\n",
       "    </tr>\n",
       "    <tr>\n",
       "      <th>1</th>\n",
       "      <td>55_0</td>\n",
       "      <td>0</td>\n",
       "      <td>732430.0</td>\n",
       "      <td>102060.0</td>\n",
       "      <td>10.0</td>\n",
       "      <td>6.0</td>\n",
       "      <td>15.0</td>\n",
       "      <td>NaN</td>\n",
       "    </tr>\n",
       "    <tr>\n",
       "      <th>2</th>\n",
       "      <td>55_0</td>\n",
       "      <td>0</td>\n",
       "      <td>732430.0</td>\n",
       "      <td>174185.0</td>\n",
       "      <td>10.0</td>\n",
       "      <td>6.0</td>\n",
       "      <td>15.0</td>\n",
       "      <td>NaN</td>\n",
       "    </tr>\n",
       "    <tr>\n",
       "      <th>3</th>\n",
       "      <td>55_0</td>\n",
       "      <td>0</td>\n",
       "      <td>732430.0</td>\n",
       "      <td>27278.9</td>\n",
       "      <td>10.0</td>\n",
       "      <td>6.0</td>\n",
       "      <td>15.0</td>\n",
       "      <td>NaN</td>\n",
       "    </tr>\n",
       "    <tr>\n",
       "      <th>4</th>\n",
       "      <td>55_0</td>\n",
       "      <td>0</td>\n",
       "      <td>732430.0</td>\n",
       "      <td>30838.7</td>\n",
       "      <td>10.0</td>\n",
       "      <td>6.0</td>\n",
       "      <td>15.0</td>\n",
       "      <td>NaN</td>\n",
       "    </tr>\n",
       "    <tr>\n",
       "      <th>5</th>\n",
       "      <td>55_0</td>\n",
       "      <td>0</td>\n",
       "      <td>732430.0</td>\n",
       "      <td>23216.5</td>\n",
       "      <td>10.0</td>\n",
       "      <td>6.0</td>\n",
       "      <td>15.0</td>\n",
       "      <td>NaN</td>\n",
       "    </tr>\n",
       "    <tr>\n",
       "      <th>6</th>\n",
       "      <td>55_0</td>\n",
       "      <td>0</td>\n",
       "      <td>732430.0</td>\n",
       "      <td>170878.0</td>\n",
       "      <td>10.0</td>\n",
       "      <td>6.0</td>\n",
       "      <td>15.0</td>\n",
       "      <td>NaN</td>\n",
       "    </tr>\n",
       "    <tr>\n",
       "      <th>7</th>\n",
       "      <td>55_0</td>\n",
       "      <td>0</td>\n",
       "      <td>732430.0</td>\n",
       "      <td>148771.0</td>\n",
       "      <td>10.0</td>\n",
       "      <td>6.0</td>\n",
       "      <td>15.0</td>\n",
       "      <td>NaN</td>\n",
       "    </tr>\n",
       "    <tr>\n",
       "      <th>8</th>\n",
       "      <td>55_0</td>\n",
       "      <td>0</td>\n",
       "      <td>732430.0</td>\n",
       "      <td>55202.1</td>\n",
       "      <td>10.0</td>\n",
       "      <td>6.0</td>\n",
       "      <td>15.0</td>\n",
       "      <td>NaN</td>\n",
       "    </tr>\n",
       "    <tr>\n",
       "      <th>9</th>\n",
       "      <td>55_0</td>\n",
       "      <td>0</td>\n",
       "      <td>39585.8</td>\n",
       "      <td>27229.3</td>\n",
       "      <td>10.0</td>\n",
       "      <td>6.0</td>\n",
       "      <td>15.0</td>\n",
       "      <td>NaN</td>\n",
       "    </tr>\n",
       "  </tbody>\n",
       "</table>\n",
       "</div>"
      ],
      "text/plain": [
       "  visit_id  visit_month       NPX  PeptideAbundance  updrs_1  updrs_2  \\\n",
       "0     55_0            0   11254.3           11254.3     10.0      6.0   \n",
       "1     55_0            0  732430.0          102060.0     10.0      6.0   \n",
       "2     55_0            0  732430.0          174185.0     10.0      6.0   \n",
       "3     55_0            0  732430.0           27278.9     10.0      6.0   \n",
       "4     55_0            0  732430.0           30838.7     10.0      6.0   \n",
       "5     55_0            0  732430.0           23216.5     10.0      6.0   \n",
       "6     55_0            0  732430.0          170878.0     10.0      6.0   \n",
       "7     55_0            0  732430.0          148771.0     10.0      6.0   \n",
       "8     55_0            0  732430.0           55202.1     10.0      6.0   \n",
       "9     55_0            0   39585.8           27229.3     10.0      6.0   \n",
       "\n",
       "   updrs_3  updrs_4  \n",
       "0     15.0      NaN  \n",
       "1     15.0      NaN  \n",
       "2     15.0      NaN  \n",
       "3     15.0      NaN  \n",
       "4     15.0      NaN  \n",
       "5     15.0      NaN  \n",
       "6     15.0      NaN  \n",
       "7     15.0      NaN  \n",
       "8     15.0      NaN  \n",
       "9     15.0      NaN  "
      ]
     },
     "execution_count": 3,
     "metadata": {},
     "output_type": "execute_result"
    }
   ],
   "source": [
    "pro_pep_join = pd.merge(train_proteins_df, train_peptides_df, on=['patient_id','visit_id','visit_month','UniProt'], how='inner')\n",
    "\n",
    "del train_proteins_df, train_peptides_df\n",
    "gc.collect()\n",
    "\n",
    "train_clinical_data_df = pd.read_csv('/kaggle/input/amp-parkinsons-disease-progression-prediction/train_clinical_data.csv')\n",
    "print(train_clinical_data_df.shape)\n",
    "print(train_clinical_data_df.memory_usage(deep=True).sum()/1024/1024, \" MBs\")\n",
    "\n",
    "full_training_data = pd.merge(pro_pep_join, train_clinical_data_df, on=['patient_id','visit_id','visit_month'], how='inner')\n",
    "\n",
    "del pro_pep_join, train_clinical_data_df\n",
    "gc.collect()\n",
    "\n",
    "full_training_data = full_training_data.drop(columns=['UniProt','Peptide','upd23b_clinical_state_on_medication','patient_id'])\n",
    "\n",
    "print(full_training_data.shape)\n",
    "full_training_data.head(10)"
   ]
  },
  {
   "cell_type": "code",
   "execution_count": 4,
   "id": "d0f5ef33",
   "metadata": {
    "execution": {
     "iopub.execute_input": "2023-03-18T16:33:02.241613Z",
     "iopub.status.busy": "2023-03-18T16:33:02.241316Z",
     "iopub.status.idle": "2023-03-18T16:33:03.083273Z",
     "shell.execute_reply": "2023-03-18T16:33:03.081863Z"
    },
    "papermill": {
     "duration": 0.851147,
     "end_time": "2023-03-18T16:33:03.086107",
     "exception": false,
     "start_time": "2023-03-18T16:33:02.234960",
     "status": "completed"
    },
    "tags": []
   },
   "outputs": [
    {
     "name": "stdout",
     "output_type": "stream",
     "text": [
      "updrs_1\n",
      "6.506168342989177\n",
      "updrs_2\n",
      "5.781904636504188\n",
      "updrs_3\n",
      "17.205188800631337\n",
      "updrs_4\n",
      "1.8879240409258773\n"
     ]
    }
   ],
   "source": [
    "full_training_data_melted = full_training_data.melt(id_vars=['visit_id','visit_month','NPX','PeptideAbundance']\n",
    "                                                    , value_vars=['updrs_1','updrs_2','updrs_3','updrs_4'],var_name='updrs_test', value_name='updrs_test_score')\n",
    "\n",
    "list_of_updrs_tests = full_training_data_melted.updrs_test.unique()\n",
    "\n",
    "temp_df = full_training_data_melted.groupby(['updrs_test']).agg(visit_month_per_patient=('visit_id', 'count')\n",
    "                                                      , mean_updrs_test_score=('updrs_test_score', 'mean') ).reset_index(level=['updrs_test'])\n",
    "\n",
    "for i in range(len(list_of_updrs_tests)):\n",
    "    print(list_of_updrs_tests[i])\n",
    "    updrs_test_mean = full_training_data[list_of_updrs_tests[i]].mean()\n",
    "    print(updrs_test_mean)\n",
    "    full_training_data.fillna({list_of_updrs_tests[i]:updrs_test_mean}, inplace=True)"
   ]
  },
  {
   "cell_type": "code",
   "execution_count": 5,
   "id": "3a03bf98",
   "metadata": {
    "execution": {
     "iopub.execute_input": "2023-03-18T16:33:03.098385Z",
     "iopub.status.busy": "2023-03-18T16:33:03.098014Z",
     "iopub.status.idle": "2023-03-18T16:33:03.504305Z",
     "shell.execute_reply": "2023-03-18T16:33:03.502562Z"
    },
    "papermill": {
     "duration": 0.41533,
     "end_time": "2023-03-18T16:33:03.506801",
     "exception": false,
     "start_time": "2023-03-18T16:33:03.091471",
     "status": "completed"
    },
    "tags": []
   },
   "outputs": [
    {
     "data": {
      "text/html": [
       "<div>\n",
       "<style scoped>\n",
       "    .dataframe tbody tr th:only-of-type {\n",
       "        vertical-align: middle;\n",
       "    }\n",
       "\n",
       "    .dataframe tbody tr th {\n",
       "        vertical-align: top;\n",
       "    }\n",
       "\n",
       "    .dataframe thead th {\n",
       "        text-align: right;\n",
       "    }\n",
       "</style>\n",
       "<table border=\"1\" class=\"dataframe\">\n",
       "  <thead>\n",
       "    <tr style=\"text-align: right;\">\n",
       "      <th></th>\n",
       "      <th>visit_id</th>\n",
       "      <th>visit_month</th>\n",
       "      <th>NPX</th>\n",
       "      <th>PeptideAbundance</th>\n",
       "      <th>updrs_test</th>\n",
       "      <th>updrs_test_score</th>\n",
       "    </tr>\n",
       "  </thead>\n",
       "  <tbody>\n",
       "    <tr>\n",
       "      <th>0</th>\n",
       "      <td>55_0</td>\n",
       "      <td>0</td>\n",
       "      <td>11254.3</td>\n",
       "      <td>11254.3</td>\n",
       "      <td>updrs_1</td>\n",
       "      <td>10.000000</td>\n",
       "    </tr>\n",
       "    <tr>\n",
       "      <th>1</th>\n",
       "      <td>55_0</td>\n",
       "      <td>0</td>\n",
       "      <td>732430.0</td>\n",
       "      <td>102060.0</td>\n",
       "      <td>updrs_1</td>\n",
       "      <td>10.000000</td>\n",
       "    </tr>\n",
       "    <tr>\n",
       "      <th>2</th>\n",
       "      <td>55_0</td>\n",
       "      <td>0</td>\n",
       "      <td>732430.0</td>\n",
       "      <td>174185.0</td>\n",
       "      <td>updrs_1</td>\n",
       "      <td>10.000000</td>\n",
       "    </tr>\n",
       "    <tr>\n",
       "      <th>3</th>\n",
       "      <td>55_0</td>\n",
       "      <td>0</td>\n",
       "      <td>732430.0</td>\n",
       "      <td>27278.9</td>\n",
       "      <td>updrs_1</td>\n",
       "      <td>10.000000</td>\n",
       "    </tr>\n",
       "    <tr>\n",
       "      <th>4</th>\n",
       "      <td>55_0</td>\n",
       "      <td>0</td>\n",
       "      <td>732430.0</td>\n",
       "      <td>30838.7</td>\n",
       "      <td>updrs_1</td>\n",
       "      <td>10.000000</td>\n",
       "    </tr>\n",
       "    <tr>\n",
       "      <th>...</th>\n",
       "      <td>...</td>\n",
       "      <td>...</td>\n",
       "      <td>...</td>\n",
       "      <td>...</td>\n",
       "      <td>...</td>\n",
       "      <td>...</td>\n",
       "    </tr>\n",
       "    <tr>\n",
       "      <th>2826158</th>\n",
       "      <td>55_0</td>\n",
       "      <td>0</td>\n",
       "      <td>408698.0</td>\n",
       "      <td>98654.3</td>\n",
       "      <td>updrs_4</td>\n",
       "      <td>1.887924</td>\n",
       "    </tr>\n",
       "    <tr>\n",
       "      <th>2826159</th>\n",
       "      <td>55_0</td>\n",
       "      <td>0</td>\n",
       "      <td>408698.0</td>\n",
       "      <td>218723.0</td>\n",
       "      <td>updrs_4</td>\n",
       "      <td>1.887924</td>\n",
       "    </tr>\n",
       "    <tr>\n",
       "      <th>2826160</th>\n",
       "      <td>55_0</td>\n",
       "      <td>0</td>\n",
       "      <td>29758.8</td>\n",
       "      <td>29758.8</td>\n",
       "      <td>updrs_4</td>\n",
       "      <td>1.887924</td>\n",
       "    </tr>\n",
       "    <tr>\n",
       "      <th>2826161</th>\n",
       "      <td>55_0</td>\n",
       "      <td>0</td>\n",
       "      <td>23833.7</td>\n",
       "      <td>23833.7</td>\n",
       "      <td>updrs_4</td>\n",
       "      <td>1.887924</td>\n",
       "    </tr>\n",
       "    <tr>\n",
       "      <th>2826162</th>\n",
       "      <td>55_0</td>\n",
       "      <td>0</td>\n",
       "      <td>18953.5</td>\n",
       "      <td>18953.5</td>\n",
       "      <td>updrs_4</td>\n",
       "      <td>1.887924</td>\n",
       "    </tr>\n",
       "  </tbody>\n",
       "</table>\n",
       "<p>3724 rows × 6 columns</p>\n",
       "</div>"
      ],
      "text/plain": [
       "        visit_id  visit_month       NPX  PeptideAbundance updrs_test  \\\n",
       "0           55_0            0   11254.3           11254.3    updrs_1   \n",
       "1           55_0            0  732430.0          102060.0    updrs_1   \n",
       "2           55_0            0  732430.0          174185.0    updrs_1   \n",
       "3           55_0            0  732430.0           27278.9    updrs_1   \n",
       "4           55_0            0  732430.0           30838.7    updrs_1   \n",
       "...          ...          ...       ...               ...        ...   \n",
       "2826158     55_0            0  408698.0           98654.3    updrs_4   \n",
       "2826159     55_0            0  408698.0          218723.0    updrs_4   \n",
       "2826160     55_0            0   29758.8           29758.8    updrs_4   \n",
       "2826161     55_0            0   23833.7           23833.7    updrs_4   \n",
       "2826162     55_0            0   18953.5           18953.5    updrs_4   \n",
       "\n",
       "         updrs_test_score  \n",
       "0               10.000000  \n",
       "1               10.000000  \n",
       "2               10.000000  \n",
       "3               10.000000  \n",
       "4               10.000000  \n",
       "...                   ...  \n",
       "2826158          1.887924  \n",
       "2826159          1.887924  \n",
       "2826160          1.887924  \n",
       "2826161          1.887924  \n",
       "2826162          1.887924  \n",
       "\n",
       "[3724 rows x 6 columns]"
      ]
     },
     "execution_count": 5,
     "metadata": {},
     "output_type": "execute_result"
    }
   ],
   "source": [
    "full_training_data_melted = full_training_data.melt(id_vars=['visit_id','visit_month','NPX','PeptideAbundance']\n",
    "                                                    , value_vars=['updrs_1','updrs_2','updrs_3','updrs_4'],var_name='updrs_test', value_name='updrs_test_score')\n",
    "\n",
    "#full_training_data_melted['group_key'] = full_training_data_melted['visit_month']\n",
    "#full_training_data_melted['row_id'] = full_training_data_melted['visit_id'] + '_' + full_training_data_melted['updrs_test']\n",
    "\n",
    "full_training_data_melted[full_training_data_melted['visit_id']=='55_0']"
   ]
  },
  {
   "cell_type": "code",
   "execution_count": 6,
   "id": "e6195701",
   "metadata": {
    "execution": {
     "iopub.execute_input": "2023-03-18T16:33:03.519911Z",
     "iopub.status.busy": "2023-03-18T16:33:03.519576Z",
     "iopub.status.idle": "2023-03-18T16:33:03.575685Z",
     "shell.execute_reply": "2023-03-18T16:33:03.574724Z"
    },
    "papermill": {
     "duration": 0.065415,
     "end_time": "2023-03-18T16:33:03.577899",
     "exception": false,
     "start_time": "2023-03-18T16:33:03.512484",
     "status": "completed"
    },
    "tags": []
   },
   "outputs": [
    {
     "name": "stdout",
     "output_type": "stream",
     "text": [
      "[10.         11.          2.          1.          8.          6.\n",
      "  9.         12.          5.          7.          4.         17.\n",
      "  3.          0.         14.         16.         15.         20.\n",
      " 18.         13.         33.         28.         25.         26.\n",
      " 19.         21.         24.         22.         23.         27.\n",
      " 29.         36.         38.         30.         46.         41.\n",
      " 40.         39.         47.         32.         31.         34.\n",
      " 56.         52.         35.         17.2051888  51.         44.\n",
      " 68.         43.         67.         61.         45.         59.\n",
      " 37.         48.         42.         60.         55.         49.\n",
      " 63.         78.         58.         50.         66.          1.88792404]\n",
      "[  0   3   6  12  18  24  30  36  48  54  60  72  84  96 108]\n"
     ]
    }
   ],
   "source": [
    "\"\"\"print(full_training_data_melted.group_key.nunique())\n",
    "print(full_training_data_melted.shape)\"\"\"\n",
    "## 15, (3766976, 9)\n",
    "print(full_training_data_melted.updrs_test_score.unique())\n",
    "print(full_training_data_melted.visit_month.unique())"
   ]
  },
  {
   "cell_type": "code",
   "execution_count": 7,
   "id": "6be41359",
   "metadata": {
    "execution": {
     "iopub.execute_input": "2023-03-18T16:33:03.590579Z",
     "iopub.status.busy": "2023-03-18T16:33:03.590286Z",
     "iopub.status.idle": "2023-03-18T16:33:03.879845Z",
     "shell.execute_reply": "2023-03-18T16:33:03.878242Z"
    },
    "papermill": {
     "duration": 0.299311,
     "end_time": "2023-03-18T16:33:03.882885",
     "exception": false,
     "start_time": "2023-03-18T16:33:03.583574",
     "status": "completed"
    },
    "tags": []
   },
   "outputs": [
    {
     "data": {
      "text/plain": [
       "visit_id            0\n",
       "visit_month         0\n",
       "NPX                 0\n",
       "PeptideAbundance    0\n",
       "updrs_test          0\n",
       "updrs_test_score    0\n",
       "dtype: int64"
      ]
     },
     "execution_count": 7,
     "metadata": {},
     "output_type": "execute_result"
    }
   ],
   "source": [
    "full_training_data_melted.isna().sum()"
   ]
  },
  {
   "cell_type": "code",
   "execution_count": 8,
   "id": "fa8ac627",
   "metadata": {
    "execution": {
     "iopub.execute_input": "2023-03-18T16:33:03.897067Z",
     "iopub.status.busy": "2023-03-18T16:33:03.896713Z",
     "iopub.status.idle": "2023-03-18T16:33:04.223567Z",
     "shell.execute_reply": "2023-03-18T16:33:04.221732Z"
    },
    "papermill": {
     "duration": 0.337752,
     "end_time": "2023-03-18T16:33:04.226719",
     "exception": false,
     "start_time": "2023-03-18T16:33:03.888967",
     "status": "completed"
    },
    "tags": []
   },
   "outputs": [
    {
     "data": {
      "text/plain": [
       "<AxesSubplot:>"
      ]
     },
     "execution_count": 8,
     "metadata": {},
     "output_type": "execute_result"
    },
    {
     "data": {
      "image/png": "[encoded data removed]",
      "text/plain": [
       "<Figure size 640x480 with 1 Axes>"
      ]
     },
     "metadata": {},
     "output_type": "display_data"
    }
   ],
   "source": [
    "#full_training_data_melted[['updrs_test_score','PeptideAbundance','NPX','group_key']].corr()\n",
    "full_training_data_melted['updrs_test_score'].hist()"
   ]
  },
  {
   "cell_type": "code",
   "execution_count": 9,
   "id": "c8ac5851",
   "metadata": {
    "execution": {
     "iopub.execute_input": "2023-03-18T16:33:04.241533Z",
     "iopub.status.busy": "2023-03-18T16:33:04.241171Z",
     "iopub.status.idle": "2023-03-18T16:33:04.558943Z",
     "shell.execute_reply": "2023-03-18T16:33:04.557048Z"
    },
    "papermill": {
     "duration": 0.328185,
     "end_time": "2023-03-18T16:33:04.561434",
     "exception": false,
     "start_time": "2023-03-18T16:33:04.233249",
     "status": "completed"
    },
    "tags": []
   },
   "outputs": [
    {
     "data": {
      "text/plain": [
       "<AxesSubplot:>"
      ]
     },
     "execution_count": 9,
     "metadata": {},
     "output_type": "execute_result"
    },
    {
     "data": {
      "image/png": "[encoded data removed]",
      "text/plain": [
       "<Figure size 640x480 with 1 Axes>"
      ]
     },
     "metadata": {},
     "output_type": "display_data"
    }
   ],
   "source": [
    "full_training_data_melted['updrs_score_category'] = pd.cut(full_training_data_melted['updrs_test_score'],\n",
    "                                                          bins=[-np.inf, 0., 10., 20., 30., 40., 50., 60., 70., 80., np.inf],\n",
    "                                                          labels=[1,2,3,4,5,6,7,8,9,10])\n",
    "\n",
    "full_training_data_melted['updrs_score_category'].hist()"
   ]
  },
  {
   "cell_type": "code",
   "execution_count": 10,
   "id": "0ac4ac2d",
   "metadata": {
    "execution": {
     "iopub.execute_input": "2023-03-18T16:33:04.576571Z",
     "iopub.status.busy": "2023-03-18T16:33:04.576226Z",
     "iopub.status.idle": "2023-03-18T16:33:04.602485Z",
     "shell.execute_reply": "2023-03-18T16:33:04.600685Z"
    },
    "papermill": {
     "duration": 0.037097,
     "end_time": "2023-03-18T16:33:04.605251",
     "exception": false,
     "start_time": "2023-03-18T16:33:04.568154",
     "status": "completed"
    },
    "tags": []
   },
   "outputs": [
    {
     "data": {
      "text/plain": [
       "[2, 3, 1, 5, 4, 6, 7, 8, 9]\n",
       "Categories (10, int64): [1 < 2 < 3 < 4 ... 7 < 8 < 9 < 10]"
      ]
     },
     "execution_count": 10,
     "metadata": {},
     "output_type": "execute_result"
    }
   ],
   "source": [
    "full_training_data_melted['updrs_score_category'].unique()\n",
    "#full_training_data_melted[full_training_data_melted['updrs_score_category'].isna()]\n",
    "#full_training_data_melted[full_training_data_melted['updrs_test_score'] < 0]"
   ]
  },
  {
   "cell_type": "code",
   "execution_count": 11,
   "id": "011dc5d6",
   "metadata": {
    "execution": {
     "iopub.execute_input": "2023-03-18T16:33:04.620948Z",
     "iopub.status.busy": "2023-03-18T16:33:04.620610Z",
     "iopub.status.idle": "2023-03-18T16:33:07.164605Z",
     "shell.execute_reply": "2023-03-18T16:33:07.163006Z"
    },
    "papermill": {
     "duration": 2.555359,
     "end_time": "2023-03-18T16:33:07.167254",
     "exception": false,
     "start_time": "2023-03-18T16:33:04.611895",
     "status": "completed"
    },
    "tags": []
   },
   "outputs": [],
   "source": [
    "split = StratifiedShuffleSplit(n_splits=1, test_size=0.2, random_state=42)\n",
    "for train_index, test_index in split.split(full_training_data_melted, full_training_data_melted['updrs_score_category']):\n",
    "    strat_train_set = full_training_data_melted.loc[train_index]\n",
    "    strat_test_set = full_training_data_melted.loc[test_index]"
   ]
  },
  {
   "cell_type": "code",
   "execution_count": 12,
   "id": "f2d8990f",
   "metadata": {
    "execution": {
     "iopub.execute_input": "2023-03-18T16:33:07.182513Z",
     "iopub.status.busy": "2023-03-18T16:33:07.182172Z",
     "iopub.status.idle": "2023-03-18T16:33:07.194712Z",
     "shell.execute_reply": "2023-03-18T16:33:07.193270Z"
    },
    "papermill": {
     "duration": 0.023184,
     "end_time": "2023-03-18T16:33:07.197493",
     "exception": false,
     "start_time": "2023-03-18T16:33:07.174309",
     "status": "completed"
    },
    "tags": []
   },
   "outputs": [
    {
     "data": {
      "text/plain": [
       "2     0.546203\n",
       "1     0.201293\n",
       "3     0.144421\n",
       "4     0.058847\n",
       "5     0.030969\n",
       "6     0.011998\n",
       "7     0.004732\n",
       "8     0.001306\n",
       "9     0.000232\n",
       "10    0.000000\n",
       "Name: updrs_score_category, dtype: float64"
      ]
     },
     "execution_count": 12,
     "metadata": {},
     "output_type": "execute_result"
    }
   ],
   "source": [
    "strat_test_set['updrs_score_category'].value_counts()/len(strat_test_set)"
   ]
  },
  {
   "cell_type": "code",
   "execution_count": 13,
   "id": "8bda7fe3",
   "metadata": {
    "execution": {
     "iopub.execute_input": "2023-03-18T16:33:07.213678Z",
     "iopub.status.busy": "2023-03-18T16:33:07.213222Z",
     "iopub.status.idle": "2023-03-18T16:33:07.237988Z",
     "shell.execute_reply": "2023-03-18T16:33:07.236578Z"
    },
    "papermill": {
     "duration": 0.036512,
     "end_time": "2023-03-18T16:33:07.240883",
     "exception": false,
     "start_time": "2023-03-18T16:33:07.204371",
     "status": "completed"
    },
    "tags": []
   },
   "outputs": [
    {
     "data": {
      "text/plain": [
       "2     0.546202\n",
       "1     0.201293\n",
       "3     0.144421\n",
       "4     0.058847\n",
       "5     0.030969\n",
       "6     0.011997\n",
       "7     0.004731\n",
       "8     0.001307\n",
       "9     0.000232\n",
       "10    0.000000\n",
       "Name: updrs_score_category, dtype: float64"
      ]
     },
     "execution_count": 13,
     "metadata": {},
     "output_type": "execute_result"
    }
   ],
   "source": [
    "strat_train_set['updrs_score_category'].value_counts()/len(strat_train_set)"
   ]
  },
  {
   "cell_type": "code",
   "execution_count": 14,
   "id": "f28658dc",
   "metadata": {
    "execution": {
     "iopub.execute_input": "2023-03-18T16:33:07.257024Z",
     "iopub.status.busy": "2023-03-18T16:33:07.255971Z",
     "iopub.status.idle": "2023-03-18T16:33:07.262844Z",
     "shell.execute_reply": "2023-03-18T16:33:07.260892Z"
    },
    "papermill": {
     "duration": 0.018117,
     "end_time": "2023-03-18T16:33:07.265850",
     "exception": false,
     "start_time": "2023-03-18T16:33:07.247733",
     "status": "completed"
    },
    "tags": []
   },
   "outputs": [
    {
     "name": "stdout",
     "output_type": "stream",
     "text": [
      "(3013580, 7)\n",
      "(753396, 7)\n"
     ]
    }
   ],
   "source": [
    "print(strat_train_set.shape)\n",
    "print(strat_test_set.shape)"
   ]
  },
  {
   "cell_type": "code",
   "execution_count": 15,
   "id": "4e25a754",
   "metadata": {
    "execution": {
     "iopub.execute_input": "2023-03-18T16:33:07.281196Z",
     "iopub.status.busy": "2023-03-18T16:33:07.280848Z",
     "iopub.status.idle": "2023-03-18T16:33:07.387471Z",
     "shell.execute_reply": "2023-03-18T16:33:07.385435Z"
    },
    "papermill": {
     "duration": 0.118058,
     "end_time": "2023-03-18T16:33:07.390785",
     "exception": false,
     "start_time": "2023-03-18T16:33:07.272727",
     "status": "completed"
    },
    "tags": []
   },
   "outputs": [
    {
     "data": {
      "text/html": [
       "<div>\n",
       "<style scoped>\n",
       "    .dataframe tbody tr th:only-of-type {\n",
       "        vertical-align: middle;\n",
       "    }\n",
       "\n",
       "    .dataframe tbody tr th {\n",
       "        vertical-align: top;\n",
       "    }\n",
       "\n",
       "    .dataframe thead th {\n",
       "        text-align: right;\n",
       "    }\n",
       "</style>\n",
       "<table border=\"1\" class=\"dataframe\">\n",
       "  <thead>\n",
       "    <tr style=\"text-align: right;\">\n",
       "      <th></th>\n",
       "      <th>visit_id</th>\n",
       "      <th>visit_month</th>\n",
       "      <th>NPX</th>\n",
       "      <th>PeptideAbundance</th>\n",
       "      <th>updrs_test</th>\n",
       "      <th>updrs_test_score</th>\n",
       "    </tr>\n",
       "  </thead>\n",
       "  <tbody>\n",
       "    <tr>\n",
       "      <th>2846225</th>\n",
       "      <td>10718_0</td>\n",
       "      <td>0</td>\n",
       "      <td>2511280.0</td>\n",
       "      <td>175969.00</td>\n",
       "      <td>updrs_4</td>\n",
       "      <td>0.000000</td>\n",
       "    </tr>\n",
       "    <tr>\n",
       "      <th>449723</th>\n",
       "      <td>16347_24</td>\n",
       "      <td>24</td>\n",
       "      <td>51674.1</td>\n",
       "      <td>42613.80</td>\n",
       "      <td>updrs_1</td>\n",
       "      <td>3.000000</td>\n",
       "    </tr>\n",
       "    <tr>\n",
       "      <th>3111634</th>\n",
       "      <td>16566_12</td>\n",
       "      <td>12</td>\n",
       "      <td>904164.0</td>\n",
       "      <td>151785.00</td>\n",
       "      <td>updrs_4</td>\n",
       "      <td>5.000000</td>\n",
       "    </tr>\n",
       "    <tr>\n",
       "      <th>3242217</th>\n",
       "      <td>3636_24</td>\n",
       "      <td>24</td>\n",
       "      <td>4037500.0</td>\n",
       "      <td>677633.00</td>\n",
       "      <td>updrs_4</td>\n",
       "      <td>1.887924</td>\n",
       "    </tr>\n",
       "    <tr>\n",
       "      <th>243261</th>\n",
       "      <td>59574_6</td>\n",
       "      <td>6</td>\n",
       "      <td>71899.7</td>\n",
       "      <td>71899.70</td>\n",
       "      <td>updrs_1</td>\n",
       "      <td>0.000000</td>\n",
       "    </tr>\n",
       "    <tr>\n",
       "      <th>3162961</th>\n",
       "      <td>37220_12</td>\n",
       "      <td>12</td>\n",
       "      <td>9267080.0</td>\n",
       "      <td>152006.00</td>\n",
       "      <td>updrs_4</td>\n",
       "      <td>1.887924</td>\n",
       "    </tr>\n",
       "    <tr>\n",
       "      <th>3591060</th>\n",
       "      <td>35231_48</td>\n",
       "      <td>48</td>\n",
       "      <td>1387630.0</td>\n",
       "      <td>3609.76</td>\n",
       "      <td>updrs_4</td>\n",
       "      <td>0.000000</td>\n",
       "    </tr>\n",
       "    <tr>\n",
       "      <th>2257379</th>\n",
       "      <td>54979_12</td>\n",
       "      <td>12</td>\n",
       "      <td>3518430.0</td>\n",
       "      <td>87876.50</td>\n",
       "      <td>updrs_3</td>\n",
       "      <td>31.000000</td>\n",
       "    </tr>\n",
       "    <tr>\n",
       "      <th>2683914</th>\n",
       "      <td>57009_48</td>\n",
       "      <td>48</td>\n",
       "      <td>592419.0</td>\n",
       "      <td>69920.90</td>\n",
       "      <td>updrs_3</td>\n",
       "      <td>0.000000</td>\n",
       "    </tr>\n",
       "    <tr>\n",
       "      <th>408644</th>\n",
       "      <td>15504_18</td>\n",
       "      <td>18</td>\n",
       "      <td>60624.7</td>\n",
       "      <td>41237.70</td>\n",
       "      <td>updrs_1</td>\n",
       "      <td>5.000000</td>\n",
       "    </tr>\n",
       "  </tbody>\n",
       "</table>\n",
       "</div>"
      ],
      "text/plain": [
       "         visit_id  visit_month        NPX  PeptideAbundance updrs_test  \\\n",
       "2846225   10718_0            0  2511280.0         175969.00    updrs_4   \n",
       "449723   16347_24           24    51674.1          42613.80    updrs_1   \n",
       "3111634  16566_12           12   904164.0         151785.00    updrs_4   \n",
       "3242217   3636_24           24  4037500.0         677633.00    updrs_4   \n",
       "243261    59574_6            6    71899.7          71899.70    updrs_1   \n",
       "3162961  37220_12           12  9267080.0         152006.00    updrs_4   \n",
       "3591060  35231_48           48  1387630.0           3609.76    updrs_4   \n",
       "2257379  54979_12           12  3518430.0          87876.50    updrs_3   \n",
       "2683914  57009_48           48   592419.0          69920.90    updrs_3   \n",
       "408644   15504_18           18    60624.7          41237.70    updrs_1   \n",
       "\n",
       "         updrs_test_score  \n",
       "2846225          0.000000  \n",
       "449723           3.000000  \n",
       "3111634          5.000000  \n",
       "3242217          1.887924  \n",
       "243261           0.000000  \n",
       "3162961          1.887924  \n",
       "3591060          0.000000  \n",
       "2257379         31.000000  \n",
       "2683914          0.000000  \n",
       "408644           5.000000  "
      ]
     },
     "execution_count": 15,
     "metadata": {},
     "output_type": "execute_result"
    }
   ],
   "source": [
    "strat_train_set = strat_train_set.drop(columns=['updrs_score_category'])\n",
    "strat_test_set = strat_test_set.drop(columns=['updrs_score_category'])\n",
    "strat_train_set.head(10)"
   ]
  },
  {
   "cell_type": "code",
   "execution_count": 16,
   "id": "d1fc33ad",
   "metadata": {
    "execution": {
     "iopub.execute_input": "2023-03-18T16:33:07.406786Z",
     "iopub.status.busy": "2023-03-18T16:33:07.406460Z",
     "iopub.status.idle": "2023-03-18T16:33:07.662340Z",
     "shell.execute_reply": "2023-03-18T16:33:07.660634Z"
    },
    "papermill": {
     "duration": 0.266694,
     "end_time": "2023-03-18T16:33:07.664791",
     "exception": false,
     "start_time": "2023-03-18T16:33:07.398097",
     "status": "completed"
    },
    "tags": []
   },
   "outputs": [
    {
     "data": {
      "text/plain": [
       "147"
      ]
     },
     "execution_count": 16,
     "metadata": {},
     "output_type": "execute_result"
    }
   ],
   "source": [
    "strat_train_set_wo_labels = strat_train_set.drop('updrs_test_score', axis=1)\n",
    "strat_train_set_labels = strat_train_set['updrs_test_score'].copy()\n",
    "strat_train_set_numeric = strat_train_set_wo_labels.drop(columns=['visit_id','visit_month','updrs_test'])\n",
    "strat_train_set_cat = strat_train_set_wo_labels[['visit_month','updrs_test']]\n",
    "\n",
    "del full_training_data, full_training_data_melted\n",
    "gc.collect()"
   ]
  },
  {
   "cell_type": "code",
   "execution_count": 17,
   "id": "62ad977e",
   "metadata": {
    "execution": {
     "iopub.execute_input": "2023-03-18T16:33:07.680647Z",
     "iopub.status.busy": "2023-03-18T16:33:07.680267Z",
     "iopub.status.idle": "2023-03-18T16:33:09.331657Z",
     "shell.execute_reply": "2023-03-18T16:33:09.330215Z"
    },
    "papermill": {
     "duration": 1.661672,
     "end_time": "2023-03-18T16:33:09.334107",
     "exception": false,
     "start_time": "2023-03-18T16:33:07.672435",
     "status": "completed"
    },
    "tags": []
   },
   "outputs": [],
   "source": [
    "from sklearn.preprocessing import StandardScaler\n",
    "\n",
    "numeric_pipeline = Pipeline([\n",
    "    ('standard_scaler', StandardScaler())\n",
    "])\n",
    "\n",
    "numeric_attributes = list(strat_train_set_numeric)\n",
    "categorical_attributes = list(strat_train_set_cat)\n",
    "\n",
    "full_pipeline = ColumnTransformer([\n",
    "    ('num', numeric_pipeline, numeric_attributes),\n",
    "    ('cat', OneHotEncoder(), categorical_attributes)\n",
    "])\n",
    "\n",
    "strat_train_set_prepared = full_pipeline.fit_transform(strat_train_set_wo_labels)"
   ]
  },
  {
   "cell_type": "code",
   "execution_count": 18,
   "id": "a8e9e93d",
   "metadata": {
    "execution": {
     "iopub.execute_input": "2023-03-18T16:33:09.349869Z",
     "iopub.status.busy": "2023-03-18T16:33:09.349549Z",
     "iopub.status.idle": "2023-03-18T16:33:13.031061Z",
     "shell.execute_reply": "2023-03-18T16:33:13.030126Z"
    },
    "papermill": {
     "duration": 3.69242,
     "end_time": "2023-03-18T16:33:13.033567",
     "exception": false,
     "start_time": "2023-03-18T16:33:09.341147",
     "status": "completed"
    },
    "tags": []
   },
   "outputs": [],
   "source": [
    "from sklearn.linear_model import LinearRegression\n",
    "\n",
    "lin_reg = LinearRegression()\n",
    "\n",
    "lin_reg_model = lin_reg.fit(strat_train_set_prepared, strat_train_set_labels)"
   ]
  },
  {
   "cell_type": "code",
   "execution_count": 19,
   "id": "134cfc69",
   "metadata": {
    "execution": {
     "iopub.execute_input": "2023-03-18T16:33:13.055053Z",
     "iopub.status.busy": "2023-03-18T16:33:13.054087Z",
     "iopub.status.idle": "2023-03-18T16:33:13.065820Z",
     "shell.execute_reply": "2023-03-18T16:33:13.065091Z"
    },
    "papermill": {
     "duration": 0.024935,
     "end_time": "2023-03-18T16:33:13.068149",
     "exception": false,
     "start_time": "2023-03-18T16:33:13.043214",
     "status": "completed"
    },
    "tags": []
   },
   "outputs": [
    {
     "name": "stdout",
     "output_type": "stream",
     "text": [
      "Predictions:  [0.06456918 6.36145312 1.49866712 1.74441417 8.7469576 ]\n",
      "Labels:  [0.0, 3.0, 5.0, 1.8879240409258773, 0.0]\n"
     ]
    }
   ],
   "source": [
    "some_data = strat_train_set_wo_labels.iloc[:5]\n",
    "some_labels = strat_train_set_labels.iloc[:5]\n",
    "some_data_prepared = full_pipeline.transform(some_data)\n",
    "print('Predictions: ', lin_reg_model.predict(some_data_prepared))\n",
    "print('Labels: ', list(some_labels))"
   ]
  },
  {
   "cell_type": "code",
   "execution_count": null,
   "id": "da46b7b8",
   "metadata": {
    "papermill": {
     "duration": 0.009526,
     "end_time": "2023-03-18T16:33:13.088285",
     "exception": false,
     "start_time": "2023-03-18T16:33:13.078759",
     "status": "completed"
    },
    "tags": []
   },
   "outputs": [],
   "source": []
  }
 ],
 "metadata": {
  "kernelspec": {
   "display_name": "Python 3",
   "language": "python",
   "name": "python3"
  },
  "language_info": {
   "codemirror_mode": {
    "name": "ipython",
    "version": 3
   },
   "file_extension": ".py",
   "mimetype": "text/x-python",
   "name": "python",
   "nbconvert_exporter": "python",
   "pygments_lexer": "ipython3",
   "version": "3.7.12"
  },
  "papermill": {
   "default_parameters": {},
   "duration": 25.060514,
   "end_time": "2023-03-18T16:33:13.919763",
   "environment_variables": {},
   "exception": null,
   "input_path": "__notebook__.ipynb",
   "output_path": "__notebook__.ipynb",
   "parameters": {},
   "start_time": "2023-03-18T16:32:48.859249",
   "version": "2.4.0"
  }
 },
 "nbformat": 4,
 "nbformat_minor": 5
}
