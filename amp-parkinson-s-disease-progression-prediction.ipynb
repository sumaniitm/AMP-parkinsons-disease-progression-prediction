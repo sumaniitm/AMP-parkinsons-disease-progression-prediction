{
 "cells": [
  {
   "cell_type": "code",
   "execution_count": 1,
   "id": "a731b128",
   "metadata": {
    "_cell_guid": "b1076dfc-b9ad-4769-8c92-a6c4dae69d19",
    "_uuid": "8f2839f25d086af736a60e9eeb907d3b93b6e0e5",
    "execution": {
     "iopub.execute_input": "2023-03-19T17:40:15.612501Z",
     "iopub.status.busy": "2023-03-19T17:40:15.611402Z",
     "iopub.status.idle": "2023-03-19T17:40:16.588723Z",
     "shell.execute_reply": "2023-03-19T17:40:16.587459Z"
    },
    "papermill": {
     "duration": 0.993722,
     "end_time": "2023-03-19T17:40:16.591459",
     "exception": false,
     "start_time": "2023-03-19T17:40:15.597737",
     "status": "completed"
    },
    "tags": []
   },
   "outputs": [
    {
     "name": "stdout",
     "output_type": "stream",
     "text": [
      "/kaggle/input/amp-parkinsons-disease-progression-prediction/train_proteins.csv\n",
      "/kaggle/input/amp-parkinsons-disease-progression-prediction/train_clinical_data.csv\n",
      "/kaggle/input/amp-parkinsons-disease-progression-prediction/public_timeseries_testing_util.py\n",
      "/kaggle/input/amp-parkinsons-disease-progression-prediction/supplemental_clinical_data.csv\n",
      "/kaggle/input/amp-parkinsons-disease-progression-prediction/train_peptides.csv\n",
      "/kaggle/input/amp-parkinsons-disease-progression-prediction/amp_pd_peptide/competition.cpython-37m-x86_64-linux-gnu.so\n",
      "/kaggle/input/amp-parkinsons-disease-progression-prediction/amp_pd_peptide/__init__.py\n",
      "/kaggle/input/amp-parkinsons-disease-progression-prediction/example_test_files/sample_submission.csv\n",
      "/kaggle/input/amp-parkinsons-disease-progression-prediction/example_test_files/test_proteins.csv\n",
      "/kaggle/input/amp-parkinsons-disease-progression-prediction/example_test_files/test_peptides.csv\n",
      "/kaggle/input/amp-parkinsons-disease-progression-prediction/example_test_files/test.csv\n"
     ]
    }
   ],
   "source": [
    "# This Python 3 environment comes with many helpful analytics libraries installed\n",
    "# It is defined by the kaggle/python Docker image: https://github.com/kaggle/docker-python\n",
    "# For example, here's several helpful packages to load\n",
    "\n",
    "import numpy as np # linear algebra\n",
    "import pandas as pd # data processing, CSV file I/O (e.g. pd.read_csv)\n",
    "import os\n",
    "import gc\n",
    "from pandas.plotting import scatter_matrix\n",
    "%matplotlib inline\n",
    "import matplotlib.pyplot as plt\n",
    "\n",
    "from sklearn.model_selection import StratifiedShuffleSplit\n",
    "from sklearn.compose import ColumnTransformer\n",
    "from sklearn.preprocessing import OneHotEncoder\n",
    "from sklearn.preprocessing import PolynomialFeatures\n",
    "from sklearn.pipeline import Pipeline\n",
    "from sklearn.preprocessing import StandardScaler\n",
    "\n",
    "from sklearn.metrics import mean_squared_error\n",
    "\n",
    "# Input data files are available in the read-only \"../input/\" directory\n",
    "# For example, running this (by clicking run or pressing Shift+Enter) will list all files under the input directory\n",
    "\n",
    "import os\n",
    "for dirname, _, filenames in os.walk('/kaggle/input'):\n",
    "    for filename in filenames:\n",
    "        print(os.path.join(dirname, filename))\n",
    "\n",
    "# You can write up to 20GB to the current directory (/kaggle/working/) that gets preserved as output when you create a version using \"Save & Run All\" \n",
    "# You can also write temporary files to /kaggle/temp/, but they won't be saved outside of the current session"
   ]
  },
  {
   "cell_type": "markdown",
   "id": "7173f493",
   "metadata": {
    "papermill": {
     "duration": 0.007698,
     "end_time": "2023-03-19T17:40:16.607555",
     "exception": false,
     "start_time": "2023-03-19T17:40:16.599857",
     "status": "completed"
    },
    "tags": []
   },
   "source": [
    "#### Get the relevant training datasets and combine them to form the full training set with Proteins and Peptides"
   ]
  },
  {
   "cell_type": "code",
   "execution_count": 2,
   "id": "1d214d9a",
   "metadata": {
    "execution": {
     "iopub.execute_input": "2023-03-19T17:40:16.625437Z",
     "iopub.status.busy": "2023-03-19T17:40:16.625002Z",
     "iopub.status.idle": "2023-03-19T17:40:19.297509Z",
     "shell.execute_reply": "2023-03-19T17:40:19.296240Z"
    },
    "papermill": {
     "duration": 2.685084,
     "end_time": "2023-03-19T17:40:19.300707",
     "exception": false,
     "start_time": "2023-03-19T17:40:16.615623",
     "status": "completed"
    },
    "tags": []
   },
   "outputs": [],
   "source": [
    "train_proteins_df = pd.read_csv('/kaggle/input/amp-parkinsons-disease-progression-prediction/train_proteins.csv')\n",
    "#print(train_proteins_df.shape)\n",
    "#print(train_proteins_df.memory_usage(deep=True).sum()/1024/1024, \" MBs\")\n",
    "#train_proteins_df.head(10)\n",
    "\n",
    "train_peptides_df = pd.read_csv('/kaggle/input/amp-parkinsons-disease-progression-prediction/train_peptides.csv')\n",
    "#print(train_peptides_df.shape)\n",
    "#print(train_peptides_df.memory_usage(deep=True).sum()/1024/1024, \" MBs\")\n",
    "#train_peptides_df.head(10)\n",
    "\n",
    "pro_pep_join = pd.merge(train_proteins_df, train_peptides_df, on=['patient_id','visit_id','visit_month','UniProt'], how='inner')\n",
    "\n",
    "del train_proteins_df, train_peptides_df\n",
    "gc.collect()\n",
    "\n",
    "train_clinical_data_df = pd.read_csv('/kaggle/input/amp-parkinsons-disease-progression-prediction/train_clinical_data.csv')\n",
    "#print(train_clinical_data_df.shape)\n",
    "#print(train_clinical_data_df.memory_usage(deep=True).sum()/1024/1024, \" MBs\")\n",
    "\n",
    "full_training_data = pd.merge(pro_pep_join, train_clinical_data_df, on=['patient_id','visit_id','visit_month'], how='inner')\n",
    "\n",
    "del pro_pep_join, train_clinical_data_df\n",
    "gc.collect()\n",
    "\n",
    "full_training_data = full_training_data.drop(columns=['UniProt','Peptide','upd23b_clinical_state_on_medication','patient_id'])\n",
    "\n",
    "#print(full_training_data.shape)\n",
    "#full_training_data.head(10)"
   ]
  },
  {
   "cell_type": "markdown",
   "id": "f5b5b978",
   "metadata": {
    "papermill": {
     "duration": 0.007685,
     "end_time": "2023-03-19T17:40:19.318039",
     "exception": false,
     "start_time": "2023-03-19T17:40:19.310354",
     "status": "completed"
    },
    "tags": []
   },
   "source": [
    "#### Remove the NaNs from the UPDRS test scores, using the mean from within the same group of UPDRS test scores, e.g. NaNs in updrs_4 are filled with mean of updrs_4"
   ]
  },
  {
   "cell_type": "code",
   "execution_count": 3,
   "id": "48864a95",
   "metadata": {
    "execution": {
     "iopub.execute_input": "2023-03-19T17:40:19.336029Z",
     "iopub.status.busy": "2023-03-19T17:40:19.335380Z",
     "iopub.status.idle": "2023-03-19T17:40:20.461041Z",
     "shell.execute_reply": "2023-03-19T17:40:20.459922Z"
    },
    "papermill": {
     "duration": 1.137582,
     "end_time": "2023-03-19T17:40:20.463620",
     "exception": false,
     "start_time": "2023-03-19T17:40:19.326038",
     "status": "completed"
    },
    "tags": []
   },
   "outputs": [],
   "source": [
    "full_training_data_melted = full_training_data.melt(id_vars=['visit_id','visit_month','NPX','PeptideAbundance']\n",
    "                                                    , value_vars=['updrs_1','updrs_2','updrs_3','updrs_4'],var_name='updrs_test', value_name='updrs_test_score')\n",
    "\n",
    "list_of_updrs_tests = full_training_data_melted.updrs_test.unique()\n",
    "\n",
    "temp_df = full_training_data_melted.groupby(['updrs_test']).agg(visit_month_per_patient=('visit_id', 'count')\n",
    "                                                      , mean_updrs_test_score=('updrs_test_score', 'mean') ).reset_index(level=['updrs_test'])\n",
    "\n",
    "for i in range(len(list_of_updrs_tests)):\n",
    "    #print(list_of_updrs_tests[i])\n",
    "    updrs_test_mean = full_training_data[list_of_updrs_tests[i]].mean()\n",
    "    #print(updrs_test_mean)\n",
    "    full_training_data.fillna({list_of_updrs_tests[i]:updrs_test_mean}, inplace=True)"
   ]
  },
  {
   "cell_type": "markdown",
   "id": "c2461757",
   "metadata": {
    "papermill": {
     "duration": 0.00765,
     "end_time": "2023-03-19T17:40:20.479384",
     "exception": false,
     "start_time": "2023-03-19T17:40:20.471734",
     "status": "completed"
    },
    "tags": []
   },
   "source": [
    "#### Combine all UPDRS scores are one column and creating categorical column of UPDRS tests"
   ]
  },
  {
   "cell_type": "code",
   "execution_count": 4,
   "id": "bd63d0f6",
   "metadata": {
    "execution": {
     "iopub.execute_input": "2023-03-19T17:40:20.497493Z",
     "iopub.status.busy": "2023-03-19T17:40:20.496731Z",
     "iopub.status.idle": "2023-03-19T17:40:20.812043Z",
     "shell.execute_reply": "2023-03-19T17:40:20.810890Z"
    },
    "papermill": {
     "duration": 0.327559,
     "end_time": "2023-03-19T17:40:20.814903",
     "exception": false,
     "start_time": "2023-03-19T17:40:20.487344",
     "status": "completed"
    },
    "tags": []
   },
   "outputs": [],
   "source": [
    "full_training_data_melted = full_training_data.melt(id_vars=['visit_id','visit_month','NPX','PeptideAbundance']\n",
    "                                                    , value_vars=['updrs_1','updrs_2','updrs_3','updrs_4'],var_name='updrs_test', value_name='updrs_test_score')\n",
    "\n",
    "#print(full_training_data_melted.updrs_test_score.unique())\n",
    "#print(full_training_data_melted.visit_month.unique())\n",
    "\n",
    "#full_training_data_melted[full_training_data_melted['visit_id']=='55_0']"
   ]
  },
  {
   "cell_type": "markdown",
   "id": "bd58822c",
   "metadata": {
    "papermill": {
     "duration": 0.007876,
     "end_time": "2023-03-19T17:40:20.832512",
     "exception": false,
     "start_time": "2023-03-19T17:40:20.824636",
     "status": "completed"
    },
    "tags": []
   },
   "source": [
    "#### Check for NaNs"
   ]
  },
  {
   "cell_type": "code",
   "execution_count": 5,
   "id": "55c8a680",
   "metadata": {
    "execution": {
     "iopub.execute_input": "2023-03-19T17:40:20.851099Z",
     "iopub.status.busy": "2023-03-19T17:40:20.850312Z",
     "iopub.status.idle": "2023-03-19T17:40:21.235741Z",
     "shell.execute_reply": "2023-03-19T17:40:21.234658Z"
    },
    "papermill": {
     "duration": 0.397672,
     "end_time": "2023-03-19T17:40:21.238355",
     "exception": false,
     "start_time": "2023-03-19T17:40:20.840683",
     "status": "completed"
    },
    "tags": []
   },
   "outputs": [
    {
     "data": {
      "text/plain": [
       "visit_id            0\n",
       "visit_month         0\n",
       "NPX                 0\n",
       "PeptideAbundance    0\n",
       "updrs_test          0\n",
       "updrs_test_score    0\n",
       "dtype: int64"
      ]
     },
     "execution_count": 5,
     "metadata": {},
     "output_type": "execute_result"
    }
   ],
   "source": [
    "full_training_data_melted.isna().sum()"
   ]
  },
  {
   "cell_type": "markdown",
   "id": "d7de4561",
   "metadata": {
    "papermill": {
     "duration": 0.007676,
     "end_time": "2023-03-19T17:40:21.254172",
     "exception": false,
     "start_time": "2023-03-19T17:40:21.246496",
     "status": "completed"
    },
    "tags": []
   },
   "source": [
    "#### Proceed to create a train-test split on the Training dataset, to test out the accuracy of the developed models"
   ]
  },
  {
   "cell_type": "code",
   "execution_count": 6,
   "id": "42348d62",
   "metadata": {
    "execution": {
     "iopub.execute_input": "2023-03-19T17:40:21.272419Z",
     "iopub.status.busy": "2023-03-19T17:40:21.271687Z",
     "iopub.status.idle": "2023-03-19T17:40:21.686394Z",
     "shell.execute_reply": "2023-03-19T17:40:21.685108Z"
    },
    "papermill": {
     "duration": 0.426755,
     "end_time": "2023-03-19T17:40:21.688996",
     "exception": false,
     "start_time": "2023-03-19T17:40:21.262241",
     "status": "completed"
    },
    "tags": []
   },
   "outputs": [
    {
     "data": {
      "text/plain": [
       "<AxesSubplot:>"
      ]
     },
     "execution_count": 6,
     "metadata": {},
     "output_type": "execute_result"
    },
    {
     "data": {
      "image/png": "[encoded data removed]",
      "text/plain": [
       "<Figure size 640x480 with 1 Axes>"
      ]
     },
     "metadata": {},
     "output_type": "display_data"
    }
   ],
   "source": [
    "#full_training_data_melted[['updrs_test_score','PeptideAbundance','NPX','group_key']].corr()\n",
    "full_training_data_melted['updrs_test_score'].hist()"
   ]
  },
  {
   "cell_type": "code",
   "execution_count": 7,
   "id": "0620919a",
   "metadata": {
    "execution": {
     "iopub.execute_input": "2023-03-19T17:40:21.708500Z",
     "iopub.status.busy": "2023-03-19T17:40:21.707754Z",
     "iopub.status.idle": "2023-03-19T17:40:22.130200Z",
     "shell.execute_reply": "2023-03-19T17:40:22.129112Z"
    },
    "papermill": {
     "duration": 0.435328,
     "end_time": "2023-03-19T17:40:22.132876",
     "exception": false,
     "start_time": "2023-03-19T17:40:21.697548",
     "status": "completed"
    },
    "tags": []
   },
   "outputs": [
    {
     "data": {
      "text/plain": [
       "<AxesSubplot:>"
      ]
     },
     "execution_count": 7,
     "metadata": {},
     "output_type": "execute_result"
    },
    {
     "data": {
      "image/png": "[encoded data removed]",
      "text/plain": [
       "<Figure size 640x480 with 1 Axes>"
      ]
     },
     "metadata": {},
     "output_type": "display_data"
    }
   ],
   "source": [
    "full_training_data_melted['updrs_score_category'] = pd.cut(full_training_data_melted['updrs_test_score'],\n",
    "                                                          bins=[-np.inf, 0., 10., 20., 30., 40., 50., 60., 70., 80., np.inf],\n",
    "                                                          labels=[1,2,3,4,5,6,7,8,9,10])\n",
    "\n",
    "full_training_data_melted['updrs_score_category'].hist()"
   ]
  },
  {
   "cell_type": "markdown",
   "id": "490639c6",
   "metadata": {
    "papermill": {
     "duration": 0.008553,
     "end_time": "2023-03-19T17:40:22.150519",
     "exception": false,
     "start_time": "2023-03-19T17:40:22.141966",
     "status": "completed"
    },
    "tags": []
   },
   "source": [
    "#### Check if there are any NaNs in the created bins, there shouldn't be any"
   ]
  },
  {
   "cell_type": "code",
   "execution_count": 8,
   "id": "ff6101f1",
   "metadata": {
    "execution": {
     "iopub.execute_input": "2023-03-19T17:40:22.170473Z",
     "iopub.status.busy": "2023-03-19T17:40:22.169705Z",
     "iopub.status.idle": "2023-03-19T17:40:22.197786Z",
     "shell.execute_reply": "2023-03-19T17:40:22.196458Z"
    },
    "papermill": {
     "duration": 0.041112,
     "end_time": "2023-03-19T17:40:22.200532",
     "exception": false,
     "start_time": "2023-03-19T17:40:22.159420",
     "status": "completed"
    },
    "tags": []
   },
   "outputs": [
    {
     "data": {
      "text/plain": [
       "[2, 3, 1, 5, 4, 6, 7, 8, 9]\n",
       "Categories (10, int64): [1 < 2 < 3 < 4 ... 7 < 8 < 9 < 10]"
      ]
     },
     "execution_count": 8,
     "metadata": {},
     "output_type": "execute_result"
    }
   ],
   "source": [
    "full_training_data_melted['updrs_score_category'].unique()\n",
    "#full_training_data_melted[full_training_data_melted['updrs_score_category'].isna()]\n",
    "#full_training_data_melted[full_training_data_melted['updrs_test_score'] < 0]"
   ]
  },
  {
   "cell_type": "code",
   "execution_count": 9,
   "id": "ce4b6706",
   "metadata": {
    "execution": {
     "iopub.execute_input": "2023-03-19T17:40:22.221017Z",
     "iopub.status.busy": "2023-03-19T17:40:22.220616Z",
     "iopub.status.idle": "2023-03-19T17:40:24.715658Z",
     "shell.execute_reply": "2023-03-19T17:40:24.714446Z"
    },
    "papermill": {
     "duration": 2.508618,
     "end_time": "2023-03-19T17:40:24.718501",
     "exception": false,
     "start_time": "2023-03-19T17:40:22.209883",
     "status": "completed"
    },
    "tags": []
   },
   "outputs": [],
   "source": [
    "split = StratifiedShuffleSplit(n_splits=1, test_size=0.2, random_state=42)\n",
    "for train_index, test_index in split.split(full_training_data_melted, full_training_data_melted['updrs_score_category']):\n",
    "    strat_train_set = full_training_data_melted.loc[train_index]\n",
    "    strat_test_set = full_training_data_melted.loc[test_index]"
   ]
  },
  {
   "cell_type": "markdown",
   "id": "09de14e3",
   "metadata": {
    "papermill": {
     "duration": 0.00908,
     "end_time": "2023-03-19T17:40:24.737555",
     "exception": false,
     "start_time": "2023-03-19T17:40:24.728475",
     "status": "completed"
    },
    "tags": []
   },
   "source": [
    "#### Now, let's verify the percentage distribution of the data in the train and test splits, they should be very close"
   ]
  },
  {
   "cell_type": "code",
   "execution_count": 10,
   "id": "1bb74435",
   "metadata": {
    "execution": {
     "iopub.execute_input": "2023-03-19T17:40:24.757653Z",
     "iopub.status.busy": "2023-03-19T17:40:24.757249Z",
     "iopub.status.idle": "2023-03-19T17:40:24.771100Z",
     "shell.execute_reply": "2023-03-19T17:40:24.770013Z"
    },
    "papermill": {
     "duration": 0.026554,
     "end_time": "2023-03-19T17:40:24.773384",
     "exception": false,
     "start_time": "2023-03-19T17:40:24.746830",
     "status": "completed"
    },
    "tags": []
   },
   "outputs": [
    {
     "data": {
      "text/plain": [
       "2     0.546203\n",
       "1     0.201293\n",
       "3     0.144421\n",
       "4     0.058847\n",
       "5     0.030969\n",
       "6     0.011998\n",
       "7     0.004732\n",
       "8     0.001306\n",
       "9     0.000232\n",
       "10    0.000000\n",
       "Name: updrs_score_category, dtype: float64"
      ]
     },
     "execution_count": 10,
     "metadata": {},
     "output_type": "execute_result"
    }
   ],
   "source": [
    "strat_test_set['updrs_score_category'].value_counts()/len(strat_test_set)"
   ]
  },
  {
   "cell_type": "code",
   "execution_count": 11,
   "id": "792a34f2",
   "metadata": {
    "execution": {
     "iopub.execute_input": "2023-03-19T17:40:24.794257Z",
     "iopub.status.busy": "2023-03-19T17:40:24.793507Z",
     "iopub.status.idle": "2023-03-19T17:40:24.819564Z",
     "shell.execute_reply": "2023-03-19T17:40:24.818337Z"
    },
    "papermill": {
     "duration": 0.038976,
     "end_time": "2023-03-19T17:40:24.822002",
     "exception": false,
     "start_time": "2023-03-19T17:40:24.783026",
     "status": "completed"
    },
    "tags": []
   },
   "outputs": [
    {
     "data": {
      "text/plain": [
       "2     0.546202\n",
       "1     0.201293\n",
       "3     0.144421\n",
       "4     0.058847\n",
       "5     0.030969\n",
       "6     0.011997\n",
       "7     0.004731\n",
       "8     0.001307\n",
       "9     0.000232\n",
       "10    0.000000\n",
       "Name: updrs_score_category, dtype: float64"
      ]
     },
     "execution_count": 11,
     "metadata": {},
     "output_type": "execute_result"
    }
   ],
   "source": [
    "strat_train_set['updrs_score_category'].value_counts()/len(strat_train_set)"
   ]
  },
  {
   "cell_type": "markdown",
   "id": "52b493a7",
   "metadata": {
    "papermill": {
     "duration": 0.009369,
     "end_time": "2023-03-19T17:40:24.840783",
     "exception": false,
     "start_time": "2023-03-19T17:40:24.831414",
     "status": "completed"
    },
    "tags": []
   },
   "source": [
    "#### Get rid of the unwanted column which was created to assist in the splitting process"
   ]
  },
  {
   "cell_type": "code",
   "execution_count": 12,
   "id": "47c9927f",
   "metadata": {
    "execution": {
     "iopub.execute_input": "2023-03-19T17:40:24.861402Z",
     "iopub.status.busy": "2023-03-19T17:40:24.861011Z",
     "iopub.status.idle": "2023-03-19T17:40:25.012614Z",
     "shell.execute_reply": "2023-03-19T17:40:25.011555Z"
    },
    "papermill": {
     "duration": 0.165331,
     "end_time": "2023-03-19T17:40:25.015356",
     "exception": false,
     "start_time": "2023-03-19T17:40:24.850025",
     "status": "completed"
    },
    "tags": []
   },
   "outputs": [],
   "source": [
    "strat_train_set = strat_train_set.drop(columns=['updrs_score_category'])\n",
    "strat_test_set = strat_test_set.drop(columns=['updrs_score_category'])\n",
    "#strat_train_set.head(10)"
   ]
  },
  {
   "cell_type": "markdown",
   "id": "48307e09",
   "metadata": {
    "papermill": {
     "duration": 0.008775,
     "end_time": "2023-03-19T17:40:25.033505",
     "exception": false,
     "start_time": "2023-03-19T17:40:25.024730",
     "status": "completed"
    },
    "tags": []
   },
   "source": [
    "#### Now let us separate the labels and numeric, categorical attributes so that we can build the scikit learn pipelines"
   ]
  },
  {
   "cell_type": "code",
   "execution_count": 13,
   "id": "24df7061",
   "metadata": {
    "execution": {
     "iopub.execute_input": "2023-03-19T17:40:25.054740Z",
     "iopub.status.busy": "2023-03-19T17:40:25.054258Z",
     "iopub.status.idle": "2023-03-19T17:40:25.372737Z",
     "shell.execute_reply": "2023-03-19T17:40:25.371650Z"
    },
    "papermill": {
     "duration": 0.331913,
     "end_time": "2023-03-19T17:40:25.375115",
     "exception": false,
     "start_time": "2023-03-19T17:40:25.043202",
     "status": "completed"
    },
    "tags": []
   },
   "outputs": [
    {
     "data": {
      "text/plain": [
       "141"
      ]
     },
     "execution_count": 13,
     "metadata": {},
     "output_type": "execute_result"
    }
   ],
   "source": [
    "strat_train_set_wo_labels = strat_train_set.drop('updrs_test_score', axis=1)\n",
    "strat_train_set_labels = strat_train_set['updrs_test_score'].copy()\n",
    "strat_train_set_numeric = strat_train_set_wo_labels.drop(columns=['visit_id','visit_month','updrs_test'])\n",
    "strat_train_set_cat = strat_train_set_wo_labels[['visit_month','updrs_test']]\n",
    "\n",
    "strat_test_set_wo_labels = strat_test_set.drop('updrs_test_score', axis=1)\n",
    "strat_test_set_labels = strat_test_set['updrs_test_score'].copy()\n",
    "\n",
    "del full_training_data, full_training_data_melted\n",
    "gc.collect()"
   ]
  },
  {
   "cell_type": "code",
   "execution_count": 14,
   "id": "a43cdcd0",
   "metadata": {
    "execution": {
     "iopub.execute_input": "2023-03-19T17:40:25.395728Z",
     "iopub.status.busy": "2023-03-19T17:40:25.395297Z",
     "iopub.status.idle": "2023-03-19T17:40:28.006064Z",
     "shell.execute_reply": "2023-03-19T17:40:28.004506Z"
    },
    "papermill": {
     "duration": 2.624937,
     "end_time": "2023-03-19T17:40:28.009603",
     "exception": false,
     "start_time": "2023-03-19T17:40:25.384666",
     "status": "completed"
    },
    "tags": []
   },
   "outputs": [],
   "source": [
    "numeric_pipeline = Pipeline([\n",
    "    ('standard_scaler', StandardScaler())\n",
    "])\n",
    "\n",
    "numeric_attributes = list(strat_train_set_numeric)\n",
    "categorical_attributes = list(strat_train_set_cat)\n",
    "\n",
    "full_pipeline = ColumnTransformer([\n",
    "    ('num', numeric_pipeline, numeric_attributes),\n",
    "    ('cat', OneHotEncoder(), categorical_attributes)\n",
    "])\n",
    "\n",
    "strat_train_set_prepared = full_pipeline.fit_transform(strat_train_set_wo_labels)\n",
    "strat_test_set_prepared = full_pipeline.fit_transform(strat_test_set_wo_labels)"
   ]
  },
  {
   "cell_type": "markdown",
   "id": "110f8e4e",
   "metadata": {
    "papermill": {
     "duration": 0.009688,
     "end_time": "2023-03-19T17:40:28.030974",
     "exception": false,
     "start_time": "2023-03-19T17:40:28.021286",
     "status": "completed"
    },
    "tags": []
   },
   "source": [
    "#### Train the Linear Regression model"
   ]
  },
  {
   "cell_type": "code",
   "execution_count": 15,
   "id": "3bcf7794",
   "metadata": {
    "execution": {
     "iopub.execute_input": "2023-03-19T17:40:28.053357Z",
     "iopub.status.busy": "2023-03-19T17:40:28.052844Z",
     "iopub.status.idle": "2023-03-19T17:40:32.875617Z",
     "shell.execute_reply": "2023-03-19T17:40:32.873811Z"
    },
    "papermill": {
     "duration": 4.839739,
     "end_time": "2023-03-19T17:40:32.881069",
     "exception": false,
     "start_time": "2023-03-19T17:40:28.041330",
     "status": "completed"
    },
    "tags": []
   },
   "outputs": [],
   "source": [
    "from sklearn.linear_model import LinearRegression\n",
    "\n",
    "lin_reg = LinearRegression()\n",
    "\n",
    "lin_reg_model = lin_reg.fit(strat_train_set_prepared, strat_train_set_labels)"
   ]
  },
  {
   "cell_type": "markdown",
   "id": "44470b7e",
   "metadata": {
    "papermill": {
     "duration": 0.009464,
     "end_time": "2023-03-19T17:40:32.914176",
     "exception": false,
     "start_time": "2023-03-19T17:40:32.904712",
     "status": "completed"
    },
    "tags": []
   },
   "source": [
    "### Testing the RMSE\n",
    "#### RMSE <= 0.75 : Very good accuracy | 0.75 < RMSE <= 1.0 : Good accuracy"
   ]
  },
  {
   "cell_type": "markdown",
   "id": "491c922e",
   "metadata": {
    "papermill": {
     "duration": 0.009132,
     "end_time": "2023-03-19T17:40:32.932659",
     "exception": false,
     "start_time": "2023-03-19T17:40:32.923527",
     "status": "completed"
    },
    "tags": []
   },
   "source": [
    "#### First on train data (train split from the full training dataset)"
   ]
  },
  {
   "cell_type": "code",
   "execution_count": 16,
   "id": "9e964b9b",
   "metadata": {
    "execution": {
     "iopub.execute_input": "2023-03-19T17:40:32.953771Z",
     "iopub.status.busy": "2023-03-19T17:40:32.952876Z",
     "iopub.status.idle": "2023-03-19T17:40:33.008147Z",
     "shell.execute_reply": "2023-03-19T17:40:33.007017Z"
    },
    "papermill": {
     "duration": 0.06867,
     "end_time": "2023-03-19T17:40:33.010805",
     "exception": false,
     "start_time": "2023-03-19T17:40:32.942135",
     "status": "completed"
    },
    "tags": []
   },
   "outputs": [
    {
     "name": "stdout",
     "output_type": "stream",
     "text": [
      "8.439416662701587\n"
     ]
    }
   ],
   "source": [
    "train_df_predictions = lin_reg_model.predict(strat_train_set_prepared)\n",
    "mse = mean_squared_error(strat_train_set_labels, train_df_predictions)\n",
    "rmse = np.sqrt(mse)\n",
    "print(rmse)"
   ]
  },
  {
   "cell_type": "markdown",
   "id": "33c9cc1a",
   "metadata": {
    "papermill": {
     "duration": 0.009341,
     "end_time": "2023-03-19T17:40:33.029742",
     "exception": false,
     "start_time": "2023-03-19T17:40:33.020401",
     "status": "completed"
    },
    "tags": []
   },
   "source": [
    "#### 2nd on test data (test split from the full training dataset)"
   ]
  },
  {
   "cell_type": "code",
   "execution_count": 17,
   "id": "4d343ba1",
   "metadata": {
    "execution": {
     "iopub.execute_input": "2023-03-19T17:40:33.050799Z",
     "iopub.status.busy": "2023-03-19T17:40:33.050366Z",
     "iopub.status.idle": "2023-03-19T17:40:33.068284Z",
     "shell.execute_reply": "2023-03-19T17:40:33.066896Z"
    },
    "papermill": {
     "duration": 0.031537,
     "end_time": "2023-03-19T17:40:33.070892",
     "exception": false,
     "start_time": "2023-03-19T17:40:33.039355",
     "status": "completed"
    },
    "tags": []
   },
   "outputs": [
    {
     "name": "stdout",
     "output_type": "stream",
     "text": [
      "8.429213893643048\n"
     ]
    }
   ],
   "source": [
    "test_df_predictions = lin_reg_model.predict(strat_test_set_prepared)\n",
    "mse = mean_squared_error(strat_test_set_labels, test_df_predictions)\n",
    "rmse = np.sqrt(mse)\n",
    "print(rmse)"
   ]
  },
  {
   "cell_type": "code",
   "execution_count": 18,
   "id": "ed8e590e",
   "metadata": {
    "execution": {
     "iopub.execute_input": "2023-03-19T17:40:33.092072Z",
     "iopub.status.busy": "2023-03-19T17:40:33.091380Z",
     "iopub.status.idle": "2023-03-19T17:40:33.097918Z",
     "shell.execute_reply": "2023-03-19T17:40:33.097131Z"
    },
    "papermill": {
     "duration": 0.019644,
     "end_time": "2023-03-19T17:40:33.100148",
     "exception": false,
     "start_time": "2023-03-19T17:40:33.080504",
     "status": "completed"
    },
    "tags": []
   },
   "outputs": [
    {
     "data": {
      "text/plain": [
       "['/kaggle/working/lin_reg_model.pkl']"
      ]
     },
     "execution_count": 18,
     "metadata": {},
     "output_type": "execute_result"
    }
   ],
   "source": [
    "import joblib\n",
    "\n",
    "joblib.dump(lin_reg_model, '/kaggle/working/lin_reg_model.pkl')"
   ]
  },
  {
   "cell_type": "code",
   "execution_count": 19,
   "id": "a1629b1f",
   "metadata": {
    "execution": {
     "iopub.execute_input": "2023-03-19T17:40:33.121951Z",
     "iopub.status.busy": "2023-03-19T17:40:33.121111Z",
     "iopub.status.idle": "2023-03-19T17:40:36.434033Z",
     "shell.execute_reply": "2023-03-19T17:40:36.432890Z"
    },
    "papermill": {
     "duration": 3.32675,
     "end_time": "2023-03-19T17:40:36.436659",
     "exception": false,
     "start_time": "2023-03-19T17:40:33.109909",
     "status": "completed"
    },
    "tags": []
   },
   "outputs": [
    {
     "name": "stderr",
     "output_type": "stream",
     "text": [
      "/opt/conda/lib/python3.7/site-packages/ipykernel_launcher.py:8: SettingWithCopyWarning: \n",
      "A value is trying to be set on a copy of a slice from a DataFrame.\n",
      "Try using .loc[row_indexer,col_indexer] = value instead\n",
      "\n",
      "See the caveats in the documentation: https://pandas.pydata.org/pandas-docs/stable/user_guide/indexing.html#returning-a-view-versus-a-copy\n",
      "  \n"
     ]
    },
    {
     "data": {
      "text/html": [
       "<div>\n",
       "<style scoped>\n",
       "    .dataframe tbody tr th:only-of-type {\n",
       "        vertical-align: middle;\n",
       "    }\n",
       "\n",
       "    .dataframe tbody tr th {\n",
       "        vertical-align: top;\n",
       "    }\n",
       "\n",
       "    .dataframe thead th {\n",
       "        text-align: right;\n",
       "    }\n",
       "</style>\n",
       "<table border=\"1\" class=\"dataframe\">\n",
       "  <thead>\n",
       "    <tr style=\"text-align: right;\">\n",
       "      <th></th>\n",
       "      <th>prediction_id</th>\n",
       "      <th>rating</th>\n",
       "    </tr>\n",
       "  </thead>\n",
       "  <tbody>\n",
       "    <tr>\n",
       "      <th>0</th>\n",
       "      <td>55_0_updrs_1_plus_0_months</td>\n",
       "      <td>0.064569</td>\n",
       "    </tr>\n",
       "    <tr>\n",
       "      <th>1</th>\n",
       "      <td>55_0_updrs_1_plus_0_months</td>\n",
       "      <td>6.361453</td>\n",
       "    </tr>\n",
       "    <tr>\n",
       "      <th>2</th>\n",
       "      <td>55_0_updrs_1_plus_0_months</td>\n",
       "      <td>1.498667</td>\n",
       "    </tr>\n",
       "    <tr>\n",
       "      <th>3</th>\n",
       "      <td>55_0_updrs_1_plus_0_months</td>\n",
       "      <td>1.744414</td>\n",
       "    </tr>\n",
       "    <tr>\n",
       "      <th>4</th>\n",
       "      <td>55_0_updrs_1_plus_0_months</td>\n",
       "      <td>8.746958</td>\n",
       "    </tr>\n",
       "    <tr>\n",
       "      <th>5</th>\n",
       "      <td>55_0_updrs_1_plus_0_months</td>\n",
       "      <td>1.497239</td>\n",
       "    </tr>\n",
       "    <tr>\n",
       "      <th>6</th>\n",
       "      <td>55_0_updrs_1_plus_0_months</td>\n",
       "      <td>2.405552</td>\n",
       "    </tr>\n",
       "    <tr>\n",
       "      <th>7</th>\n",
       "      <td>55_0_updrs_1_plus_0_months</td>\n",
       "      <td>16.806558</td>\n",
       "    </tr>\n",
       "    <tr>\n",
       "      <th>8</th>\n",
       "      <td>55_0_updrs_1_plus_0_months</td>\n",
       "      <td>17.714129</td>\n",
       "    </tr>\n",
       "    <tr>\n",
       "      <th>9</th>\n",
       "      <td>55_0_updrs_1_plus_0_months</td>\n",
       "      <td>3.279009</td>\n",
       "    </tr>\n",
       "  </tbody>\n",
       "</table>\n",
       "</div>"
      ],
      "text/plain": [
       "                prediction_id     rating\n",
       "0  55_0_updrs_1_plus_0_months   0.064569\n",
       "1  55_0_updrs_1_plus_0_months   6.361453\n",
       "2  55_0_updrs_1_plus_0_months   1.498667\n",
       "3  55_0_updrs_1_plus_0_months   1.744414\n",
       "4  55_0_updrs_1_plus_0_months   8.746958\n",
       "5  55_0_updrs_1_plus_0_months   1.497239\n",
       "6  55_0_updrs_1_plus_0_months   2.405552\n",
       "7  55_0_updrs_1_plus_0_months  16.806558\n",
       "8  55_0_updrs_1_plus_0_months  17.714129\n",
       "9  55_0_updrs_1_plus_0_months   3.279009"
      ]
     },
     "execution_count": 19,
     "metadata": {},
     "output_type": "execute_result"
    }
   ],
   "source": [
    "import joblib\n",
    "\n",
    "lin_reg_model = joblib.load('/kaggle/working/lin_reg_model.pkl')\n",
    "#df_predictions = pd.DataFrame(lin_reg_model.predict(strat_train_set_prepared),columns=['rating'])\n",
    "#print(df_predictions.shape)\n",
    "temp = strat_train_set_wo_labels[['visit_id','visit_month','updrs_test']]\n",
    "#print(temp.shape)\n",
    "temp['prediction_id'] = temp['visit_id'] + '_' + temp['updrs_test'] + '_plus_' + temp['visit_month'].map(str) + '_months'\n",
    "result = pd.DataFrame(lin_reg_model.predict(strat_train_set_prepared),columns=['rating'])\n",
    "result['prediction_id'] = temp['prediction_id']\n",
    "#temp[temp['visit_id'] == '55_0'].head(10)\n",
    "final_result = result[['prediction_id','rating']]\n",
    "final_result.head(10)"
   ]
  },
  {
   "cell_type": "code",
   "execution_count": 20,
   "id": "b26f4714",
   "metadata": {
    "execution": {
     "iopub.execute_input": "2023-03-19T17:40:36.458047Z",
     "iopub.status.busy": "2023-03-19T17:40:36.457630Z",
     "iopub.status.idle": "2023-03-19T17:40:36.470718Z",
     "shell.execute_reply": "2023-03-19T17:40:36.469495Z"
    },
    "papermill": {
     "duration": 0.026515,
     "end_time": "2023-03-19T17:40:36.473232",
     "exception": false,
     "start_time": "2023-03-19T17:40:36.446717",
     "status": "completed"
    },
    "tags": []
   },
   "outputs": [
    {
     "data": {
      "text/html": [
       "<div>\n",
       "<style scoped>\n",
       "    .dataframe tbody tr th:only-of-type {\n",
       "        vertical-align: middle;\n",
       "    }\n",
       "\n",
       "    .dataframe tbody tr th {\n",
       "        vertical-align: top;\n",
       "    }\n",
       "\n",
       "    .dataframe thead th {\n",
       "        text-align: right;\n",
       "    }\n",
       "</style>\n",
       "<table border=\"1\" class=\"dataframe\">\n",
       "  <thead>\n",
       "    <tr style=\"text-align: right;\">\n",
       "      <th></th>\n",
       "      <th>prediction_id</th>\n",
       "      <th>rating</th>\n",
       "    </tr>\n",
       "  </thead>\n",
       "  <tbody>\n",
       "  </tbody>\n",
       "</table>\n",
       "</div>"
      ],
      "text/plain": [
       "Empty DataFrame\n",
       "Columns: [prediction_id, rating]\n",
       "Index: []"
      ]
     },
     "execution_count": 20,
     "metadata": {},
     "output_type": "execute_result"
    }
   ],
   "source": [
    "final_result[final_result['rating'].isna()].head(10)"
   ]
  },
  {
   "cell_type": "code",
   "execution_count": 21,
   "id": "ae3b2b31",
   "metadata": {
    "execution": {
     "iopub.execute_input": "2023-03-19T17:40:36.495860Z",
     "iopub.status.busy": "2023-03-19T17:40:36.495138Z",
     "iopub.status.idle": "2023-03-19T17:40:36.503058Z",
     "shell.execute_reply": "2023-03-19T17:40:36.502018Z"
    },
    "papermill": {
     "duration": 0.021819,
     "end_time": "2023-03-19T17:40:36.505286",
     "exception": false,
     "start_time": "2023-03-19T17:40:36.483467",
     "status": "completed"
    },
    "tags": []
   },
   "outputs": [
    {
     "data": {
      "text/plain": [
       "'train_proteins_df = pd.read_csv(\\'/kaggle/input/amp-parkinsons-disease-progression-prediction/example_test_files/test_proteins.csv\\')\\n#print(train_proteins_df.shape)\\n#print(train_proteins_df.memory_usage(deep=True).sum()/1024/1024, \" MBs\")\\ntrain_proteins_df.head(10)\\n\\ntrain_peptides_df = pd.read_csv(\\'/kaggle/input/amp-parkinsons-disease-progression-prediction/example_test_files/test_peptides.csv\\')\\n#print(train_peptides_df.shape)\\n#print(train_peptides_df.memory_usage(deep=True).sum()/1024/1024, \" MBs\")\\ntrain_peptides_df.head(10)\\n\\npro_pep_join = pd.merge(train_proteins_df, train_peptides_df, on=[\\'patient_id\\',\\'visit_id\\',\\'visit_month\\',\\'UniProt\\'], how=\\'inner\\')\\n\\ndel train_proteins_df, train_peptides_df\\ngc.collect()\\n\\ntrain_clinical_data_df = pd.read_csv(\\'/kaggle/input/amp-parkinsons-disease-progression-prediction/example_test_files/test.csv\\')\\n#print(train_clinical_data_df.shape)\\n#print(train_clinical_data_df.memory_usage(deep=True).sum()/1024/1024, \" MBs\")\\n\\nfull_training_data = pd.merge(pro_pep_join, train_clinical_data_df, on=[\\'patient_id\\',\\'visit_id\\',\\'visit_month\\'], how=\\'inner\\')\\n\\nfull_training_data.head(10)'"
      ]
     },
     "execution_count": 21,
     "metadata": {},
     "output_type": "execute_result"
    }
   ],
   "source": [
    "\"\"\"train_proteins_df = pd.read_csv('/kaggle/input/amp-parkinsons-disease-progression-prediction/example_test_files/test_proteins.csv')\n",
    "#print(train_proteins_df.shape)\n",
    "#print(train_proteins_df.memory_usage(deep=True).sum()/1024/1024, \" MBs\")\n",
    "train_proteins_df.head(10)\n",
    "\n",
    "train_peptides_df = pd.read_csv('/kaggle/input/amp-parkinsons-disease-progression-prediction/example_test_files/test_peptides.csv')\n",
    "#print(train_peptides_df.shape)\n",
    "#print(train_peptides_df.memory_usage(deep=True).sum()/1024/1024, \" MBs\")\n",
    "train_peptides_df.head(10)\n",
    "\n",
    "pro_pep_join = pd.merge(train_proteins_df, train_peptides_df, on=['patient_id','visit_id','visit_month','UniProt'], how='inner')\n",
    "\n",
    "del train_proteins_df, train_peptides_df\n",
    "gc.collect()\n",
    "\n",
    "train_clinical_data_df = pd.read_csv('/kaggle/input/amp-parkinsons-disease-progression-prediction/example_test_files/test.csv')\n",
    "#print(train_clinical_data_df.shape)\n",
    "#print(train_clinical_data_df.memory_usage(deep=True).sum()/1024/1024, \" MBs\")\n",
    "\n",
    "full_training_data = pd.merge(pro_pep_join, train_clinical_data_df, on=['patient_id','visit_id','visit_month'], how='inner')\n",
    "\n",
    "full_training_data.head(10)\"\"\""
   ]
  },
  {
   "cell_type": "code",
   "execution_count": 22,
   "id": "460c7dc7",
   "metadata": {
    "execution": {
     "iopub.execute_input": "2023-03-19T17:40:36.528438Z",
     "iopub.status.busy": "2023-03-19T17:40:36.527774Z",
     "iopub.status.idle": "2023-03-19T17:40:36.541085Z",
     "shell.execute_reply": "2023-03-19T17:40:36.540246Z"
    },
    "papermill": {
     "duration": 0.027601,
     "end_time": "2023-03-19T17:40:36.543416",
     "exception": false,
     "start_time": "2023-03-19T17:40:36.515815",
     "status": "completed"
    },
    "tags": []
   },
   "outputs": [],
   "source": [
    "def get_predictions(df, df_proteins, df_peptides, model):\n",
    "    pro_pep_join = pd.merge(df_proteins, df_peptides, on=['patient_id','visit_id','visit_month','UniProt'], how='inner')\n",
    "    del df_proteins, df_peptides\n",
    "    gc.collect()\n",
    "    full_df = pd.merge(pro_pep_join, df, on=['patient_id','visit_id','visit_month'], how='inner')\n",
    "    print(full_df.head(10))\n",
    "    \n",
    "    #full_df = full_df.drop(columns=['UniProt','Peptide','patient_id','group_key_x','group_key_y','group_key','row_id'])\n",
    "    full_df = full_df[['visit_id','visit_month','NPX','PeptideAbundance','updrs_test']]\n",
    "    \n",
    "    full_df_melted = full_df\n",
    "    \"\"\"full_df_melted = full_df.melt(id_vars=['visit_id','visit_month','NPX','PeptideAbundance']\n",
    "                                                    , value_vars=['updrs_1','updrs_2','updrs_3','updrs_4'],var_name='updrs_test', value_name='updrs_test_score')\"\"\"\n",
    "\n",
    "    list_of_updrs_tests = full_df_melted.updrs_test.unique()\n",
    "\n",
    "    for i in range(len(list_of_updrs_tests)):\n",
    "        print(list_of_updrs_tests[i])\n",
    "        updrs_test_mean = full_df[list_of_updrs_tests[i]].mean()\n",
    "        print(updrs_test_mean)\n",
    "        full_df.fillna({list_of_updrs_tests[i]:updrs_test_mean}, inplace=True)\n",
    "        \n",
    "    \"\"\"full_df_melted = full_df.melt(id_vars=['visit_id','visit_month','NPX','PeptideAbundance']\n",
    "                                                    , value_vars=['updrs_1','updrs_2','updrs_3','updrs_4'],var_name='updrs_test', value_name='updrs_test_score')\"\"\"\n",
    "    full_df_melted = full_df\n",
    "    full_df_melted_wo_labels = full_df_melted.drop('updrs_test_score', axis=1)\n",
    "    full_df_melted_labels = full_df_melted['updrs_test_score'].copy()\n",
    "    full_df_melted_numeric = full_df_melted.drop(columns=['visit_id','visit_month','updrs_test'])\n",
    "    full_df_melted_cat = full_df_melted[['visit_month','updrs_test']]\n",
    "    \n",
    "    numeric_pipeline = Pipeline([('standard_scaler', StandardScaler())])\n",
    "\n",
    "    numeric_attributes = list(full_df_melted_numeric)\n",
    "    categorical_attributes = list(full_df_melted_cat)\n",
    "\n",
    "    full_pipeline = ColumnTransformer([\n",
    "        ('num', numeric_pipeline, numeric_attributes),\n",
    "        ('cat', OneHotEncoder(), categorical_attributes)\n",
    "    ])\n",
    "\n",
    "    df_prepared = full_pipeline.fit_transform(full_df_melted_wo_labels)\n",
    "    \n",
    "    print(df_predictions.shape)\n",
    "    temp = full_df_melted_wo_labels[['visit_id','visit_month','updrs_test']]\n",
    "    print(temp.shape)\n",
    "    temp['prediction_id'] = temp['visit_id'] + '_' + temp['updrs_test'] + '_plus_' + temp['visit_month'].map(str) + '_months'\n",
    "    result = pd.DataFrame(model.predict(df_prepared),columns=['rating'])\n",
    "    result['prediction_id'] = temp['prediction_id']\n",
    "    final_result = result[['prediction_id','rating']]\n",
    "    \n",
    "    return final_result"
   ]
  },
  {
   "cell_type": "code",
   "execution_count": 23,
   "id": "5df9a358",
   "metadata": {
    "execution": {
     "iopub.execute_input": "2023-03-19T17:40:36.566190Z",
     "iopub.status.busy": "2023-03-19T17:40:36.565478Z",
     "iopub.status.idle": "2023-03-19T17:40:36.572438Z",
     "shell.execute_reply": "2023-03-19T17:40:36.571451Z"
    },
    "papermill": {
     "duration": 0.021128,
     "end_time": "2023-03-19T17:40:36.574822",
     "exception": false,
     "start_time": "2023-03-19T17:40:36.553694",
     "status": "completed"
    },
    "tags": []
   },
   "outputs": [
    {
     "data": {
      "text/plain": [
       "\"import amp_pd_peptide\\nenv = amp_pd_peptide.make_env()   # initialize the environment\\niter_test = env.iter_test()\\n\\nfor (test, test_peptides, test_proteins, sample_submission) in iter_test:\\n    result = get_predictions(test, test_proteins, test_peptides, lin_reg_model)\\n    env.predict(result)\\n    \\nresult.to_csv('/kaggle/working/submission.csv'\\n              , header=True, index=False)\""
      ]
     },
     "execution_count": 23,
     "metadata": {},
     "output_type": "execute_result"
    }
   ],
   "source": [
    "\"\"\"import amp_pd_peptide\n",
    "env = amp_pd_peptide.make_env()   # initialize the environment\n",
    "iter_test = env.iter_test()\n",
    "\n",
    "for (test, test_peptides, test_proteins, sample_submission) in iter_test:\n",
    "    result = get_predictions(test, test_proteins, test_peptides, lin_reg_model)\n",
    "    env.predict(result)\n",
    "    \n",
    "result.to_csv('/kaggle/working/submission.csv'\n",
    "              , header=True, index=False)\"\"\""
   ]
  },
  {
   "cell_type": "code",
   "execution_count": null,
   "id": "f4711fb4",
   "metadata": {
    "papermill": {
     "duration": 0.009858,
     "end_time": "2023-03-19T17:40:36.595095",
     "exception": false,
     "start_time": "2023-03-19T17:40:36.585237",
     "status": "completed"
    },
    "tags": []
   },
   "outputs": [],
   "source": []
  }
 ],
 "metadata": {
  "kernelspec": {
   "display_name": "Python 3",
   "language": "python",
   "name": "python3"
  },
  "language_info": {
   "codemirror_mode": {
    "name": "ipython",
    "version": 3
   },
   "file_extension": ".py",
   "mimetype": "text/x-python",
   "name": "python",
   "nbconvert_exporter": "python",
   "pygments_lexer": "ipython3",
   "version": "3.7.12"
  },
  "papermill": {
   "default_parameters": {},
   "duration": 31.660855,
   "end_time": "2023-03-19T17:40:37.729262",
   "environment_variables": {},
   "exception": null,
   "input_path": "__notebook__.ipynb",
   "output_path": "__notebook__.ipynb",
   "parameters": {},
   "start_time": "2023-03-19T17:40:06.068407",
   "version": "2.4.0"
  }
 },
 "nbformat": 4,
 "nbformat_minor": 5
}
